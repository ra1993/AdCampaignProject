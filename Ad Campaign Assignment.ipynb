{
 "cells": [
  {
   "cell_type": "markdown",
   "metadata": {},
   "source": [
    "# Ad Campaign"
   ]
  },
  {
   "cell_type": "markdown",
   "metadata": {},
   "source": [
    "## 0 - Import "
   ]
  },
  {
   "cell_type": "code",
   "execution_count": 1,
   "metadata": {
    "collapsed": false
   },
   "outputs": [
    {
     "name": "stderr",
     "output_type": "stream",
     "text": [
      "/Users/anna/anaconda/lib/python3.6/site-packages/IPython/core/interactiveshell.py:2881: FutureWarning: \n",
      "mpl_style had been deprecated and will be removed in a future version.\n",
      "Use `matplotlib.pyplot.style.use` instead.\n",
      "\n",
      "  exec(code_obj, self.user_global_ns, self.user_ns)\n"
     ]
    }
   ],
   "source": [
    "import json\n",
    "import calendar\n",
    "import random\n",
    "from datetime import date, timedelta\n",
    "import faker\n",
    "import numpy as np\n",
    "from pandas import DataFrame\n",
    "from delorean import parse\n",
    "import pandas as pd\n",
    "# make the graphs nicer\n",
    "pd.set_option('display.mpl_style', 'default')"
   ]
  },
  {
   "cell_type": "markdown",
   "metadata": {},
   "source": [
    "## 1 - Preparing the Data"
   ]
  },
  {
   "cell_type": "code",
   "execution_count": 2,
   "metadata": {
    "collapsed": false
   },
   "outputs": [],
   "source": [
    "# create the faker to populate the data\n",
    "fake = faker.Faker()"
   ]
  },
  {
   "cell_type": "code",
   "execution_count": 3,
   "metadata": {
    "collapsed": false
   },
   "outputs": [],
   "source": [
    "usernames = set()\n",
    "usernames_no = 1000\n",
    "\n",
    "# populate the set with 1000 unique usernames\n",
    "while len(usernames) < usernames_no:\n",
    "    usernames.add(fake.user_name())"
   ]
  },
  {
   "cell_type": "code",
   "execution_count": 4,
   "metadata": {
    "collapsed": false
   },
   "outputs": [
    {
     "data": {
      "text/plain": [
       "('Nicole Haynes', 'F')"
      ]
     },
     "execution_count": 4,
     "metadata": {},
     "output_type": "execute_result"
    }
   ],
   "source": [
    "def get_random_name_and_gender():\n",
    "    skew = .6  # 60% of users will be female\n",
    "    male = random.random() > skew\n",
    "    if male:\n",
    "        return fake.name_male(), 'M'\n",
    "    else:\n",
    "        return fake.name_female(), 'F'\n",
    "\n",
    "get_random_name_and_gender()"
   ]
  },
  {
   "cell_type": "code",
   "execution_count": 5,
   "metadata": {
    "collapsed": false
   },
   "outputs": [
    {
     "data": {
      "text/plain": [
       "['{\"username\": \"jthompson\", \"name\": \"Karen Mayer\", \"gender\": \"F\", \"email\": \"matthew38@gmail.com\", \"age\": 32, \"address\": \"331 Bradley Junctions\\\\nNew Terriborough, NH 90405\"}',\n",
       " '{\"username\": \"sophia54\", \"name\": \"George Snyder\", \"gender\": \"M\", \"email\": \"qferguson@gmail.com\", \"age\": 65, \"address\": \"PSC 4346, Box 9905\\\\nAPO AA 39380\"}',\n",
       " '{\"username\": \"carljackson\", \"name\": \"Kathryn Dawson\", \"gender\": \"F\", \"email\": \"bryan81@green-johnson.com\", \"age\": 50, \"address\": \"01984 Sullivan Point Suite 379\\\\nWest Calvin, KS 41477-2910\"}']"
      ]
     },
     "execution_count": 5,
     "metadata": {},
     "output_type": "execute_result"
    }
   ],
   "source": [
    "# for each username, create a complete user profile\n",
    "# simulate user data coming from an API. It is a list\n",
    "# of JSON strings (users).\n",
    "def get_users(usernames):\n",
    "    users = []\n",
    "    for username in usernames:\n",
    "        name, gender = get_random_name_and_gender()\n",
    "        user = {\n",
    "            'username': username,\n",
    "            'name': name,\n",
    "            'gender': gender,\n",
    "            'email': fake.email(),\n",
    "            'age': fake.random_int(min=18, max=90),\n",
    "            'address': fake.address(),\n",
    "        }\n",
    "        users.append(json.dumps(user))\n",
    "    return users\n",
    "\n",
    "users = get_users(usernames)\n",
    "users[:3] # check"
   ]
  },
  {
   "cell_type": "code",
   "execution_count": 6,
   "metadata": {
    "collapsed": false
   },
   "outputs": [
    {
     "data": {
      "text/plain": [
       "'CPM'"
      ]
     },
     "execution_count": 6,
     "metadata": {},
     "output_type": "execute_result"
    }
   ],
   "source": [
    "# campaign name format:\n",
    "# InternalType_StartDate_EndDate_TargetAge_TargetGender_Currency\n",
    "def get_type():\n",
    "    # just some gibberish internal codes\n",
    "    types = ['CPM', 'CPP', 'CPA']\n",
    "    return random.choice(types)\n",
    "\n",
    "get_type() #check"
   ]
  },
  {
   "cell_type": "code",
   "execution_count": 7,
   "metadata": {
    "collapsed": false
   },
   "outputs": [
    {
     "data": {
      "text/plain": [
       "('20170714', '20190201')"
      ]
     },
     "execution_count": 7,
     "metadata": {},
     "output_type": "execute_result"
    }
   ],
   "source": [
    "def get_start_end_dates():\n",
    "    duration = random.randint(1, 2 * 365)\n",
    "    offset = random.randint(-365, 365)\n",
    "    start = date.today() - timedelta(days=offset)\n",
    "    end = start + timedelta(days=duration)\n",
    "    \n",
    "    def _format_date(date_):\n",
    "        return date_.strftime(\"%Y%m%d\")\n",
    "    \n",
    "    return _format_date(start), _format_date(end)\n",
    "\n",
    "get_start_end_dates() #check"
   ]
  },
  {
   "cell_type": "code",
   "execution_count": 8,
   "metadata": {
    "collapsed": false
   },
   "outputs": [
    {
     "data": {
      "text/plain": [
       "'35-45'"
      ]
     },
     "execution_count": 8,
     "metadata": {},
     "output_type": "execute_result"
    }
   ],
   "source": [
    "def get_age():\n",
    "    age = random.randint(20, 45)\n",
    "    age -= age % 5\n",
    "    diff = random.randint(5, 25)\n",
    "    diff -= diff % 5\n",
    "    return '{}-{}'.format(age, age + diff)\n",
    "\n",
    "get_age() #check"
   ]
  },
  {
   "cell_type": "code",
   "execution_count": 9,
   "metadata": {
    "collapsed": false
   },
   "outputs": [
    {
     "data": {
      "text/plain": [
       "'B'"
      ]
     },
     "execution_count": 9,
     "metadata": {},
     "output_type": "execute_result"
    }
   ],
   "source": [
    "def get_gender():\n",
    "    return random.choice(('M', 'F', 'B'))\n",
    "\n",
    "get_gender() #check"
   ]
  },
  {
   "cell_type": "code",
   "execution_count": 10,
   "metadata": {
    "collapsed": false
   },
   "outputs": [
    {
     "data": {
      "text/plain": [
       "'USD'"
      ]
     },
     "execution_count": 10,
     "metadata": {},
     "output_type": "execute_result"
    }
   ],
   "source": [
    "def get_currency():\n",
    "    return random.choice(('GBP', 'EUR', 'USD'))\n",
    "\n",
    "get_currency() #check"
   ]
  },
  {
   "cell_type": "code",
   "execution_count": 11,
   "metadata": {
    "collapsed": false
   },
   "outputs": [
    {
     "data": {
      "text/plain": [
       "'CPM_20181026_20181107_40-60_B_GBP'"
      ]
     },
     "execution_count": 11,
     "metadata": {},
     "output_type": "execute_result"
    }
   ],
   "source": [
    "def get_campaign_name():\n",
    "    separator = '_'\n",
    "    type_ = get_type()\n",
    "    start_end = separator.join(get_start_end_dates())\n",
    "    age = get_age()\n",
    "    gender = get_gender()\n",
    "    currency = get_currency()\n",
    "    return separator.join(\n",
    "        (type_, start_end, age, gender, currency))\n",
    "\n",
    "get_campaign_name() #check"
   ]
  },
  {
   "cell_type": "code",
   "execution_count": 12,
   "metadata": {
    "collapsed": false
   },
   "outputs": [
    {
     "data": {
      "text/plain": [
       "{'cmp_bgt': 835291,\n",
       " 'cmp_clicks': 20260,\n",
       " 'cmp_impr': 499998,\n",
       " 'cmp_name': 'CPM_20181016_20190919_20-35_B_EUR',\n",
       " 'cmp_spent': 664293}"
      ]
     },
     "execution_count": 12,
     "metadata": {},
     "output_type": "execute_result"
    }
   ],
   "source": [
    "# campaign data:\n",
    "# name, budget, spent, clicks, impressions\n",
    "def get_campaign_data():\n",
    "    name = get_campaign_name()\n",
    "    budget = random.randint(10**3, 10**6)\n",
    "    spent = random.randint(10**2, budget)    \n",
    "    clicks = int(random.triangular(10**2, 10**5, 0.2 * 10**5))    \n",
    "    impressions = int(random.gauss(0.5 * 10**6, 2))\n",
    "    return {\n",
    "        'cmp_name': name,\n",
    "        'cmp_bgt': budget,\n",
    "        'cmp_spent': spent,\n",
    "        'cmp_clicks': clicks,\n",
    "        'cmp_impr': impressions\n",
    "    }\n",
    "\n",
    "get_campaign_data() #check"
   ]
  },
  {
   "cell_type": "code",
   "execution_count": 13,
   "metadata": {
    "collapsed": false
   },
   "outputs": [
    {
     "data": {
      "text/plain": [
       "{'campaigns': [{'cmp_bgt': 897275,\n",
       "   'cmp_clicks': 26028,\n",
       "   'cmp_impr': 500000,\n",
       "   'cmp_name': 'CPM_20170509_20170830_35-60_M_EUR',\n",
       "   'cmp_spent': 746077},\n",
       "  {'cmp_bgt': 545330,\n",
       "   'cmp_clicks': 23402,\n",
       "   'cmp_impr': 499999,\n",
       "   'cmp_name': 'CPA_20180723_20200721_45-65_B_USD',\n",
       "   'cmp_spent': 503218},\n",
       "  {'cmp_bgt': 167717,\n",
       "   'cmp_clicks': 44547,\n",
       "   'cmp_impr': 499995,\n",
       "   'cmp_name': 'CPM_20170903_20180417_25-40_B_EUR',\n",
       "   'cmp_spent': 51692},\n",
       "  {'cmp_bgt': 308163,\n",
       "   'cmp_clicks': 36029,\n",
       "   'cmp_impr': 500001,\n",
       "   'cmp_name': 'CPA_20180406_20180707_35-50_B_USD',\n",
       "   'cmp_spent': 116438},\n",
       "  {'cmp_bgt': 135919,\n",
       "   'cmp_clicks': 69201,\n",
       "   'cmp_impr': 499997,\n",
       "   'cmp_name': 'CPA_20170219_20180725_40-50_M_GBP',\n",
       "   'cmp_spent': 118649},\n",
       "  {'cmp_bgt': 382381,\n",
       "   'cmp_clicks': 36820,\n",
       "   'cmp_impr': 500001,\n",
       "   'cmp_name': 'CPA_20161221_20181211_30-45_F_USD',\n",
       "   'cmp_spent': 231580},\n",
       "  {'cmp_bgt': 634362,\n",
       "   'cmp_clicks': 28934,\n",
       "   'cmp_impr': 499997,\n",
       "   'cmp_name': 'CPP_20170111_20170507_20-35_M_GBP',\n",
       "   'cmp_spent': 605384}],\n",
       " 'user': '{\"username\": \"jthompson\", \"name\": \"Karen Mayer\", \"gender\": \"F\", \"email\": \"matthew38@gmail.com\", \"age\": 32, \"address\": \"331 Bradley Junctions\\\\nNew Terriborough, NH 90405\"}'}"
      ]
     },
     "execution_count": 13,
     "metadata": {},
     "output_type": "execute_result"
    }
   ],
   "source": [
    "# assemble the logic to get the final version of the rough data\n",
    "# data will be a list of dictionaries. Each dictionary will follow\n",
    "# this structure:\n",
    "# {'user': user_json, 'campaigns': [c1, c2, ...]}\n",
    "# where user_json is the JSON string version of a user data dict\n",
    "# and c1, c2, ... are campaign dicts as returned by\n",
    "# get_campaign_data\n",
    "\n",
    "def get_data(users):\n",
    "    data = []\n",
    "    for user in users:\n",
    "        campaigns = [get_campaign_data()\n",
    "                     for _ in range(random.randint(2, 8))]\n",
    "        data.append({'user': user, 'campaigns': campaigns})\n",
    "    return data\n",
    "\n",
    "get_data(users)[0] #check"
   ]
  },
  {
   "cell_type": "markdown",
   "metadata": {},
   "source": [
    "## 2 - Cleaning the data"
   ]
  },
  {
   "cell_type": "code",
   "execution_count": 14,
   "metadata": {
    "collapsed": false
   },
   "outputs": [
    {
     "data": {
      "text/plain": [
       "[{'campaigns': [{'cmp_bgt': 646237,\n",
       "    'cmp_clicks': 63363,\n",
       "    'cmp_impr': 500001,\n",
       "    'cmp_name': 'CPA_20180419_20181221_30-50_M_EUR',\n",
       "    'cmp_spent': 136661},\n",
       "   {'cmp_bgt': 864235,\n",
       "    'cmp_clicks': 34174,\n",
       "    'cmp_impr': 499996,\n",
       "    'cmp_name': 'CPM_20171015_20181128_25-45_M_USD',\n",
       "    'cmp_spent': 442828},\n",
       "   {'cmp_bgt': 533154,\n",
       "    'cmp_clicks': 18663,\n",
       "    'cmp_impr': 499999,\n",
       "    'cmp_name': 'CPM_20180427_20180519_40-60_B_EUR',\n",
       "    'cmp_spent': 184420},\n",
       "   {'cmp_bgt': 576772,\n",
       "    'cmp_clicks': 28490,\n",
       "    'cmp_impr': 500003,\n",
       "    'cmp_name': 'CPM_20171201_20190423_45-70_B_USD',\n",
       "    'cmp_spent': 269645},\n",
       "   {'cmp_bgt': 810482,\n",
       "    'cmp_clicks': 56923,\n",
       "    'cmp_impr': 500002,\n",
       "    'cmp_name': 'CPM_20170824_20180620_20-35_B_EUR',\n",
       "    'cmp_spent': 773578},\n",
       "   {'cmp_bgt': 564536,\n",
       "    'cmp_clicks': 66392,\n",
       "    'cmp_impr': 499999,\n",
       "    'cmp_name': 'CPP_20180914_20190912_35-50_F_USD',\n",
       "    'cmp_spent': 486116},\n",
       "   {'cmp_bgt': 29053,\n",
       "    'cmp_clicks': 32926,\n",
       "    'cmp_impr': 499996,\n",
       "    'cmp_name': 'CPM_20180103_20180909_25-50_F_USD',\n",
       "    'cmp_spent': 15165},\n",
       "   {'cmp_bgt': 220590,\n",
       "    'cmp_clicks': 10770,\n",
       "    'cmp_impr': 500001,\n",
       "    'cmp_name': 'CPM_20170126_20171206_35-45_F_USD',\n",
       "    'cmp_spent': 91496}],\n",
       "  'user': '{\"username\": \"jthompson\", \"name\": \"Karen Mayer\", \"gender\": \"F\", \"email\": \"matthew38@gmail.com\", \"age\": 32, \"address\": \"331 Bradley Junctions\\\\nNew Terriborough, NH 90405\"}'},\n",
       " {'campaigns': [{'cmp_bgt': 239756,\n",
       "    'cmp_clicks': 26828,\n",
       "    'cmp_impr': 500002,\n",
       "    'cmp_name': 'CPP_20170918_20190301_35-50_B_EUR',\n",
       "    'cmp_spent': 142983},\n",
       "   {'cmp_bgt': 873741,\n",
       "    'cmp_clicks': 22804,\n",
       "    'cmp_impr': 500002,\n",
       "    'cmp_name': 'CPM_20161208_20181015_45-50_B_GBP',\n",
       "    'cmp_spent': 369071},\n",
       "   {'cmp_bgt': 844599,\n",
       "    'cmp_clicks': 36418,\n",
       "    'cmp_impr': 499997,\n",
       "    'cmp_name': 'CPP_20171123_20190125_30-40_F_USD',\n",
       "    'cmp_spent': 716506},\n",
       "   {'cmp_bgt': 18543,\n",
       "    'cmp_clicks': 58630,\n",
       "    'cmp_impr': 500001,\n",
       "    'cmp_name': 'CPP_20181024_20200825_40-50_M_USD',\n",
       "    'cmp_spent': 8032},\n",
       "   {'cmp_bgt': 932999,\n",
       "    'cmp_clicks': 87232,\n",
       "    'cmp_impr': 500000,\n",
       "    'cmp_name': 'CPM_20180403_20180425_40-50_F_GBP',\n",
       "    'cmp_spent': 314033},\n",
       "   {'cmp_bgt': 409658,\n",
       "    'cmp_clicks': 51077,\n",
       "    'cmp_impr': 500002,\n",
       "    'cmp_name': 'CPA_20170401_20181110_20-25_B_USD',\n",
       "    'cmp_spent': 34628},\n",
       "   {'cmp_bgt': 418979,\n",
       "    'cmp_clicks': 94968,\n",
       "    'cmp_impr': 500001,\n",
       "    'cmp_name': 'CPA_20171025_20180701_40-45_M_EUR',\n",
       "    'cmp_spent': 324145},\n",
       "   {'cmp_bgt': 844165,\n",
       "    'cmp_clicks': 15335,\n",
       "    'cmp_impr': 499998,\n",
       "    'cmp_name': 'CPP_20181008_20200920_25-45_M_GBP',\n",
       "    'cmp_spent': 813128}],\n",
       "  'user': '{\"username\": \"sophia54\", \"name\": \"George Snyder\", \"gender\": \"M\", \"email\": \"qferguson@gmail.com\", \"age\": 65, \"address\": \"PSC 4346, Box 9905\\\\nAPO AA 39380\"}'}]"
      ]
     },
     "execution_count": 14,
     "metadata": {},
     "output_type": "execute_result"
    }
   ],
   "source": [
    "# fetch simulated rough data\n",
    "rough_data = get_data(users)\n",
    "\n",
    "rough_data[:2]  # let's take a look"
   ]
  },
  {
   "cell_type": "code",
   "execution_count": 15,
   "metadata": {
    "collapsed": false
   },
   "outputs": [
    {
     "data": {
      "text/plain": [
       "[{'cmp_bgt': 646237,\n",
       "  'cmp_clicks': 63363,\n",
       "  'cmp_impr': 500001,\n",
       "  'cmp_name': 'CPA_20180419_20181221_30-50_M_EUR',\n",
       "  'cmp_spent': 136661,\n",
       "  'user': '{\"username\": \"jthompson\", \"name\": \"Karen Mayer\", \"gender\": \"F\", \"email\": \"matthew38@gmail.com\", \"age\": 32, \"address\": \"331 Bradley Junctions\\\\nNew Terriborough, NH 90405\"}'},\n",
       " {'cmp_bgt': 864235,\n",
       "  'cmp_clicks': 34174,\n",
       "  'cmp_impr': 499996,\n",
       "  'cmp_name': 'CPM_20171015_20181128_25-45_M_USD',\n",
       "  'cmp_spent': 442828,\n",
       "  'user': '{\"username\": \"jthompson\", \"name\": \"Karen Mayer\", \"gender\": \"F\", \"email\": \"matthew38@gmail.com\", \"age\": 32, \"address\": \"331 Bradley Junctions\\\\nNew Terriborough, NH 90405\"}'}]"
      ]
     },
     "execution_count": 15,
     "metadata": {},
     "output_type": "execute_result"
    }
   ],
   "source": [
    "# Let's start from having a different version of the data\n",
    "# I want a list whose items will be dicts. Each dict is \n",
    "# the original campaign dict plus the user JSON\n",
    "\n",
    "data = []\n",
    "for datum in rough_data:\n",
    "    for campaign in datum['campaigns']:\n",
    "        campaign.update({'user': datum['user']})\n",
    "        data.append(campaign)\n",
    "data[:2]  # let's take another peek"
   ]
  },
  {
   "cell_type": "markdown",
   "metadata": {},
   "source": [
    "### Creating the DataFrame"
   ]
  },
  {
   "cell_type": "code",
   "execution_count": 16,
   "metadata": {
    "collapsed": false
   },
   "outputs": [
    {
     "data": {
      "text/html": [
       "<div>\n",
       "<table border=\"1\" class=\"dataframe\">\n",
       "  <thead>\n",
       "    <tr style=\"text-align: right;\">\n",
       "      <th></th>\n",
       "      <th>cmp_bgt</th>\n",
       "      <th>cmp_clicks</th>\n",
       "      <th>cmp_impr</th>\n",
       "      <th>cmp_name</th>\n",
       "      <th>cmp_spent</th>\n",
       "      <th>user</th>\n",
       "    </tr>\n",
       "  </thead>\n",
       "  <tbody>\n",
       "    <tr>\n",
       "      <th>0</th>\n",
       "      <td>646237</td>\n",
       "      <td>63363</td>\n",
       "      <td>500001</td>\n",
       "      <td>CPA_20180419_20181221_30-50_M_EUR</td>\n",
       "      <td>136661</td>\n",
       "      <td>{\"username\": \"jthompson\", \"name\": \"Karen Mayer...</td>\n",
       "    </tr>\n",
       "    <tr>\n",
       "      <th>1</th>\n",
       "      <td>864235</td>\n",
       "      <td>34174</td>\n",
       "      <td>499996</td>\n",
       "      <td>CPM_20171015_20181128_25-45_M_USD</td>\n",
       "      <td>442828</td>\n",
       "      <td>{\"username\": \"jthompson\", \"name\": \"Karen Mayer...</td>\n",
       "    </tr>\n",
       "    <tr>\n",
       "      <th>2</th>\n",
       "      <td>533154</td>\n",
       "      <td>18663</td>\n",
       "      <td>499999</td>\n",
       "      <td>CPM_20180427_20180519_40-60_B_EUR</td>\n",
       "      <td>184420</td>\n",
       "      <td>{\"username\": \"jthompson\", \"name\": \"Karen Mayer...</td>\n",
       "    </tr>\n",
       "    <tr>\n",
       "      <th>3</th>\n",
       "      <td>576772</td>\n",
       "      <td>28490</td>\n",
       "      <td>500003</td>\n",
       "      <td>CPM_20171201_20190423_45-70_B_USD</td>\n",
       "      <td>269645</td>\n",
       "      <td>{\"username\": \"jthompson\", \"name\": \"Karen Mayer...</td>\n",
       "    </tr>\n",
       "    <tr>\n",
       "      <th>4</th>\n",
       "      <td>810482</td>\n",
       "      <td>56923</td>\n",
       "      <td>500002</td>\n",
       "      <td>CPM_20170824_20180620_20-35_B_EUR</td>\n",
       "      <td>773578</td>\n",
       "      <td>{\"username\": \"jthompson\", \"name\": \"Karen Mayer...</td>\n",
       "    </tr>\n",
       "  </tbody>\n",
       "</table>\n",
       "</div>"
      ],
      "text/plain": [
       "   cmp_bgt  cmp_clicks  cmp_impr                           cmp_name  \\\n",
       "0   646237       63363    500001  CPA_20180419_20181221_30-50_M_EUR   \n",
       "1   864235       34174    499996  CPM_20171015_20181128_25-45_M_USD   \n",
       "2   533154       18663    499999  CPM_20180427_20180519_40-60_B_EUR   \n",
       "3   576772       28490    500003  CPM_20171201_20190423_45-70_B_USD   \n",
       "4   810482       56923    500002  CPM_20170824_20180620_20-35_B_EUR   \n",
       "\n",
       "   cmp_spent                                               user  \n",
       "0     136661  {\"username\": \"jthompson\", \"name\": \"Karen Mayer...  \n",
       "1     442828  {\"username\": \"jthompson\", \"name\": \"Karen Mayer...  \n",
       "2     184420  {\"username\": \"jthompson\", \"name\": \"Karen Mayer...  \n",
       "3     269645  {\"username\": \"jthompson\", \"name\": \"Karen Mayer...  \n",
       "4     773578  {\"username\": \"jthompson\", \"name\": \"Karen Mayer...  "
      ]
     },
     "execution_count": 16,
     "metadata": {},
     "output_type": "execute_result"
    }
   ],
   "source": [
    "# data is good enough for creating an initial DataFrame\n",
    "df = DataFrame(data)\n",
    "\n",
    "# let's take a look at the first 5 rows\n",
    "df.head()"
   ]
  },
  {
   "cell_type": "code",
   "execution_count": 17,
   "metadata": {
    "collapsed": false
   },
   "outputs": [
    {
     "data": {
      "text/plain": [
       "cmp_bgt       5023\n",
       "cmp_clicks    5023\n",
       "cmp_impr      5023\n",
       "cmp_name      5023\n",
       "cmp_spent     5023\n",
       "user          5023\n",
       "dtype: int64"
      ]
     },
     "execution_count": 17,
     "metadata": {},
     "output_type": "execute_result"
    }
   ],
   "source": [
    "# let's get a sense of how many rows there are and what is\n",
    "# their structure.\n",
    "df.count()"
   ]
  },
  {
   "cell_type": "code",
   "execution_count": 18,
   "metadata": {
    "collapsed": false
   },
   "outputs": [
    {
     "data": {
      "text/html": [
       "<div>\n",
       "<table border=\"1\" class=\"dataframe\">\n",
       "  <thead>\n",
       "    <tr style=\"text-align: right;\">\n",
       "      <th></th>\n",
       "      <th>cmp_bgt</th>\n",
       "      <th>cmp_clicks</th>\n",
       "      <th>cmp_impr</th>\n",
       "      <th>cmp_spent</th>\n",
       "    </tr>\n",
       "  </thead>\n",
       "  <tbody>\n",
       "    <tr>\n",
       "      <th>count</th>\n",
       "      <td>5023.000000</td>\n",
       "      <td>5023.000000</td>\n",
       "      <td>5023.000000</td>\n",
       "      <td>5023.000000</td>\n",
       "    </tr>\n",
       "    <tr>\n",
       "      <th>mean</th>\n",
       "      <td>509543.082023</td>\n",
       "      <td>40008.977304</td>\n",
       "      <td>499999.508461</td>\n",
       "      <td>254789.380052</td>\n",
       "    </tr>\n",
       "    <tr>\n",
       "      <th>std</th>\n",
       "      <td>288744.410084</td>\n",
       "      <td>21450.824048</td>\n",
       "      <td>2.000766</td>\n",
       "      <td>222649.688020</td>\n",
       "    </tr>\n",
       "    <tr>\n",
       "      <th>min</th>\n",
       "      <td>1246.000000</td>\n",
       "      <td>639.000000</td>\n",
       "      <td>499993.000000</td>\n",
       "      <td>126.000000</td>\n",
       "    </tr>\n",
       "    <tr>\n",
       "      <th>25%</th>\n",
       "      <td>261080.500000</td>\n",
       "      <td>22580.500000</td>\n",
       "      <td>499998.000000</td>\n",
       "      <td>69295.500000</td>\n",
       "    </tr>\n",
       "    <tr>\n",
       "      <th>50%</th>\n",
       "      <td>515663.000000</td>\n",
       "      <td>36965.000000</td>\n",
       "      <td>500000.000000</td>\n",
       "      <td>195029.000000</td>\n",
       "    </tr>\n",
       "    <tr>\n",
       "      <th>75%</th>\n",
       "      <td>759700.500000</td>\n",
       "      <td>55266.500000</td>\n",
       "      <td>500001.000000</td>\n",
       "      <td>391621.500000</td>\n",
       "    </tr>\n",
       "    <tr>\n",
       "      <th>max</th>\n",
       "      <td>999370.000000</td>\n",
       "      <td>99335.000000</td>\n",
       "      <td>500007.000000</td>\n",
       "      <td>988815.000000</td>\n",
       "    </tr>\n",
       "  </tbody>\n",
       "</table>\n",
       "</div>"
      ],
      "text/plain": [
       "             cmp_bgt    cmp_clicks       cmp_impr      cmp_spent\n",
       "count    5023.000000   5023.000000    5023.000000    5023.000000\n",
       "mean   509543.082023  40008.977304  499999.508461  254789.380052\n",
       "std    288744.410084  21450.824048       2.000766  222649.688020\n",
       "min      1246.000000    639.000000  499993.000000     126.000000\n",
       "25%    261080.500000  22580.500000  499998.000000   69295.500000\n",
       "50%    515663.000000  36965.000000  500000.000000  195029.000000\n",
       "75%    759700.500000  55266.500000  500001.000000  391621.500000\n",
       "max    999370.000000  99335.000000  500007.000000  988815.000000"
      ]
     },
     "execution_count": 18,
     "metadata": {},
     "output_type": "execute_result"
    }
   ],
   "source": [
    "df.describe()"
   ]
  },
  {
   "cell_type": "code",
   "execution_count": 19,
   "metadata": {
    "collapsed": false
   },
   "outputs": [
    {
     "name": "stderr",
     "output_type": "stream",
     "text": [
      "/Users/anna/anaconda/lib/python3.6/site-packages/ipykernel/__main__.py:3: FutureWarning: by argument to sort_index is deprecated, pls use .sort_values(by=...)\n",
      "  app.launch_new_instance()\n"
     ]
    },
    {
     "data": {
      "text/html": [
       "<div>\n",
       "<table border=\"1\" class=\"dataframe\">\n",
       "  <thead>\n",
       "    <tr style=\"text-align: right;\">\n",
       "      <th></th>\n",
       "      <th>cmp_bgt</th>\n",
       "      <th>cmp_clicks</th>\n",
       "      <th>cmp_impr</th>\n",
       "      <th>cmp_name</th>\n",
       "      <th>cmp_spent</th>\n",
       "      <th>user</th>\n",
       "    </tr>\n",
       "  </thead>\n",
       "  <tbody>\n",
       "    <tr>\n",
       "      <th>4075</th>\n",
       "      <td>999370</td>\n",
       "      <td>71718</td>\n",
       "      <td>499999</td>\n",
       "      <td>CPA_20180921_20181217_20-35_B_GBP</td>\n",
       "      <td>2739</td>\n",
       "      <td>{\"username\": \"ellisjeanne\", \"name\": \"Julie Smi...</td>\n",
       "    </tr>\n",
       "    <tr>\n",
       "      <th>1679</th>\n",
       "      <td>999250</td>\n",
       "      <td>46824</td>\n",
       "      <td>499997</td>\n",
       "      <td>CPM_20180516_20180928_30-40_M_USD</td>\n",
       "      <td>784811</td>\n",
       "      <td>{\"username\": \"margaretvargas\", \"name\": \"Michel...</td>\n",
       "    </tr>\n",
       "    <tr>\n",
       "      <th>37</th>\n",
       "      <td>998185</td>\n",
       "      <td>13864</td>\n",
       "      <td>499998</td>\n",
       "      <td>CPM_20180113_20190808_35-40_B_USD</td>\n",
       "      <td>522415</td>\n",
       "      <td>{\"username\": \"willie35\", \"name\": \"Daniel Vance...</td>\n",
       "    </tr>\n",
       "  </tbody>\n",
       "</table>\n",
       "</div>"
      ],
      "text/plain": [
       "      cmp_bgt  cmp_clicks  cmp_impr                           cmp_name  \\\n",
       "4075   999370       71718    499999  CPA_20180921_20181217_20-35_B_GBP   \n",
       "1679   999250       46824    499997  CPM_20180516_20180928_30-40_M_USD   \n",
       "37     998185       13864    499998  CPM_20180113_20190808_35-40_B_USD   \n",
       "\n",
       "      cmp_spent                                               user  \n",
       "4075       2739  {\"username\": \"ellisjeanne\", \"name\": \"Julie Smi...  \n",
       "1679     784811  {\"username\": \"margaretvargas\", \"name\": \"Michel...  \n",
       "37       522415  {\"username\": \"willie35\", \"name\": \"Daniel Vance...  "
      ]
     },
     "execution_count": 19,
     "metadata": {},
     "output_type": "execute_result"
    }
   ],
   "source": [
    "# let's see which are the top and bottom 3 campaigns according\n",
    "# to budget (regardless of the currency)\n",
    "df.sort_index(by=['cmp_bgt'], ascending=False).head(3)"
   ]
  },
  {
   "cell_type": "code",
   "execution_count": 20,
   "metadata": {
    "collapsed": false
   },
   "outputs": [
    {
     "name": "stderr",
     "output_type": "stream",
     "text": [
      "/Users/anna/anaconda/lib/python3.6/site-packages/ipykernel/__main__.py:1: FutureWarning: by argument to sort_index is deprecated, pls use .sort_values(by=...)\n",
      "  if __name__ == '__main__':\n"
     ]
    },
    {
     "data": {
      "text/html": [
       "<div>\n",
       "<table border=\"1\" class=\"dataframe\">\n",
       "  <thead>\n",
       "    <tr style=\"text-align: right;\">\n",
       "      <th></th>\n",
       "      <th>cmp_bgt</th>\n",
       "      <th>cmp_clicks</th>\n",
       "      <th>cmp_impr</th>\n",
       "      <th>cmp_name</th>\n",
       "      <th>cmp_spent</th>\n",
       "      <th>user</th>\n",
       "    </tr>\n",
       "  </thead>\n",
       "  <tbody>\n",
       "    <tr>\n",
       "      <th>2606</th>\n",
       "      <td>1373</td>\n",
       "      <td>64897</td>\n",
       "      <td>500002</td>\n",
       "      <td>CPM_20180425_20190205_20-40_B_GBP</td>\n",
       "      <td>1043</td>\n",
       "      <td>{\"username\": \"brenda02\", \"name\": \"Timothy Hern...</td>\n",
       "    </tr>\n",
       "    <tr>\n",
       "      <th>2312</th>\n",
       "      <td>1253</td>\n",
       "      <td>17999</td>\n",
       "      <td>500000</td>\n",
       "      <td>CPP_20170108_20171026_40-50_B_EUR</td>\n",
       "      <td>738</td>\n",
       "      <td>{\"username\": \"erin41\", \"name\": \"Terri Stewart\"...</td>\n",
       "    </tr>\n",
       "    <tr>\n",
       "      <th>953</th>\n",
       "      <td>1246</td>\n",
       "      <td>26871</td>\n",
       "      <td>499999</td>\n",
       "      <td>CPA_20180218_20180425_25-35_B_GBP</td>\n",
       "      <td>638</td>\n",
       "      <td>{\"username\": \"ssmith\", \"name\": \"Tamara Fernand...</td>\n",
       "    </tr>\n",
       "  </tbody>\n",
       "</table>\n",
       "</div>"
      ],
      "text/plain": [
       "      cmp_bgt  cmp_clicks  cmp_impr                           cmp_name  \\\n",
       "2606     1373       64897    500002  CPM_20180425_20190205_20-40_B_GBP   \n",
       "2312     1253       17999    500000  CPP_20170108_20171026_40-50_B_EUR   \n",
       "953      1246       26871    499999  CPA_20180218_20180425_25-35_B_GBP   \n",
       "\n",
       "      cmp_spent                                               user  \n",
       "2606       1043  {\"username\": \"brenda02\", \"name\": \"Timothy Hern...  \n",
       "2312        738  {\"username\": \"erin41\", \"name\": \"Terri Stewart\"...  \n",
       "953         638  {\"username\": \"ssmith\", \"name\": \"Tamara Fernand...  "
      ]
     },
     "execution_count": 20,
     "metadata": {},
     "output_type": "execute_result"
    }
   ],
   "source": [
    "df.sort_index(by=['cmp_bgt'], ascending=False).tail(3)"
   ]
  },
  {
   "cell_type": "markdown",
   "metadata": {},
   "source": [
    "## 3 - Manipulating the DataFrame"
   ]
  },
  {
   "cell_type": "code",
   "execution_count": 21,
   "metadata": {
    "collapsed": false
   },
   "outputs": [
    {
     "data": {
      "text/html": [
       "<div>\n",
       "<table border=\"1\" class=\"dataframe\">\n",
       "  <thead>\n",
       "    <tr style=\"text-align: right;\">\n",
       "      <th></th>\n",
       "      <th>Type</th>\n",
       "      <th>Start</th>\n",
       "      <th>End</th>\n",
       "      <th>Age</th>\n",
       "      <th>Gender</th>\n",
       "      <th>Currency</th>\n",
       "    </tr>\n",
       "  </thead>\n",
       "  <tbody>\n",
       "    <tr>\n",
       "      <th>0</th>\n",
       "      <td>CPA</td>\n",
       "      <td>2018-04-19</td>\n",
       "      <td>2018-12-21</td>\n",
       "      <td>30-50</td>\n",
       "      <td>M</td>\n",
       "      <td>EUR</td>\n",
       "    </tr>\n",
       "    <tr>\n",
       "      <th>1</th>\n",
       "      <td>CPM</td>\n",
       "      <td>2017-10-15</td>\n",
       "      <td>2018-11-28</td>\n",
       "      <td>25-45</td>\n",
       "      <td>M</td>\n",
       "      <td>USD</td>\n",
       "    </tr>\n",
       "    <tr>\n",
       "      <th>2</th>\n",
       "      <td>CPM</td>\n",
       "      <td>2018-04-27</td>\n",
       "      <td>2018-05-19</td>\n",
       "      <td>40-60</td>\n",
       "      <td>B</td>\n",
       "      <td>EUR</td>\n",
       "    </tr>\n",
       "  </tbody>\n",
       "</table>\n",
       "</div>"
      ],
      "text/plain": [
       "  Type       Start         End    Age Gender Currency\n",
       "0  CPA  2018-04-19  2018-12-21  30-50      M      EUR\n",
       "1  CPM  2017-10-15  2018-11-28  25-45      M      USD\n",
       "2  CPM  2018-04-27  2018-05-19  40-60      B      EUR"
      ]
     },
     "execution_count": 21,
     "metadata": {},
     "output_type": "execute_result"
    }
   ],
   "source": [
    "# first, let's explode cmp_name into its components\n",
    "# and get a separate DataFrame for those\n",
    "\n",
    "def unpack_campaign_name(name):\n",
    "    # very optimistic method, assumes data in campaign name\n",
    "    # is always in good state\n",
    "    type_, start, end, age, gender, currency = name.split('_')\n",
    "    start = parse(start).date\n",
    "    end = parse(end).date\n",
    "    return type_, start, end, age, gender, currency\n",
    "\n",
    "campaign_data = df['cmp_name'].apply(unpack_campaign_name)\n",
    "campaign_cols = [\n",
    "    'Type', 'Start', 'End', 'Age', 'Gender', 'Currency']\n",
    "campaign_df = DataFrame(\n",
    "    campaign_data.tolist(), columns=campaign_cols, index=df.index)\n",
    "campaign_df.head(3)"
   ]
  },
  {
   "cell_type": "code",
   "execution_count": 22,
   "metadata": {
    "collapsed": false
   },
   "outputs": [],
   "source": [
    "# let's join the two dataframes\n",
    "df = df.join(campaign_df)"
   ]
  },
  {
   "cell_type": "code",
   "execution_count": 23,
   "metadata": {
    "collapsed": false
   },
   "outputs": [
    {
     "data": {
      "text/html": [
       "<div>\n",
       "<table border=\"1\" class=\"dataframe\">\n",
       "  <thead>\n",
       "    <tr style=\"text-align: right;\">\n",
       "      <th></th>\n",
       "      <th>cmp_name</th>\n",
       "      <th>Type</th>\n",
       "      <th>Start</th>\n",
       "      <th>End</th>\n",
       "      <th>Age</th>\n",
       "      <th>Gender</th>\n",
       "      <th>Currency</th>\n",
       "    </tr>\n",
       "  </thead>\n",
       "  <tbody>\n",
       "    <tr>\n",
       "      <th>0</th>\n",
       "      <td>CPA_20180419_20181221_30-50_M_EUR</td>\n",
       "      <td>CPA</td>\n",
       "      <td>2018-04-19</td>\n",
       "      <td>2018-12-21</td>\n",
       "      <td>30-50</td>\n",
       "      <td>M</td>\n",
       "      <td>EUR</td>\n",
       "    </tr>\n",
       "    <tr>\n",
       "      <th>1</th>\n",
       "      <td>CPM_20171015_20181128_25-45_M_USD</td>\n",
       "      <td>CPM</td>\n",
       "      <td>2017-10-15</td>\n",
       "      <td>2018-11-28</td>\n",
       "      <td>25-45</td>\n",
       "      <td>M</td>\n",
       "      <td>USD</td>\n",
       "    </tr>\n",
       "    <tr>\n",
       "      <th>2</th>\n",
       "      <td>CPM_20180427_20180519_40-60_B_EUR</td>\n",
       "      <td>CPM</td>\n",
       "      <td>2018-04-27</td>\n",
       "      <td>2018-05-19</td>\n",
       "      <td>40-60</td>\n",
       "      <td>B</td>\n",
       "      <td>EUR</td>\n",
       "    </tr>\n",
       "  </tbody>\n",
       "</table>\n",
       "</div>"
      ],
      "text/plain": [
       "                            cmp_name Type       Start         End    Age  \\\n",
       "0  CPA_20180419_20181221_30-50_M_EUR  CPA  2018-04-19  2018-12-21  30-50   \n",
       "1  CPM_20171015_20181128_25-45_M_USD  CPM  2017-10-15  2018-11-28  25-45   \n",
       "2  CPM_20180427_20180519_40-60_B_EUR  CPM  2018-04-27  2018-05-19  40-60   \n",
       "\n",
       "  Gender Currency  \n",
       "0      M      EUR  \n",
       "1      M      USD  \n",
       "2      B      EUR  "
      ]
     },
     "execution_count": 23,
     "metadata": {},
     "output_type": "execute_result"
    }
   ],
   "source": [
    "# and take a look  \n",
    "df[['cmp_name'] + campaign_cols].head(3)"
   ]
  },
  {
   "cell_type": "code",
   "execution_count": 24,
   "metadata": {
    "collapsed": false
   },
   "outputs": [],
   "source": [
    "# now let's do the same for the JSON user object\n",
    "\n",
    "def unpack_user_json(user):\n",
    "    # very optimistic as well, expects user objects\n",
    "    # to have all attributes\n",
    "    user = json.loads(user.strip())\n",
    "    return [\n",
    "        user['username'],\n",
    "        user['email'],\n",
    "        user['name'],\n",
    "        user['gender'],\n",
    "        user['age'],\n",
    "        user['address'],\n",
    "    ]\n",
    "\n",
    "user_data = df['user'].apply(unpack_user_json)\n",
    "user_cols = [\n",
    "    'username', 'email', 'name', 'gender', 'age', 'address']\n",
    "user_df = DataFrame(\n",
    "    user_data.tolist(), columns=user_cols, index=df.index)"
   ]
  },
  {
   "cell_type": "code",
   "execution_count": 25,
   "metadata": {
    "collapsed": true
   },
   "outputs": [],
   "source": [
    "# let's join the two dataframes\n",
    "df = df.join(user_df)"
   ]
  },
  {
   "cell_type": "code",
   "execution_count": 26,
   "metadata": {
    "collapsed": false
   },
   "outputs": [
    {
     "data": {
      "text/html": [
       "<div>\n",
       "<table border=\"1\" class=\"dataframe\">\n",
       "  <thead>\n",
       "    <tr style=\"text-align: right;\">\n",
       "      <th></th>\n",
       "      <th>user</th>\n",
       "      <th>username</th>\n",
       "      <th>email</th>\n",
       "      <th>name</th>\n",
       "      <th>gender</th>\n",
       "      <th>age</th>\n",
       "      <th>address</th>\n",
       "    </tr>\n",
       "  </thead>\n",
       "  <tbody>\n",
       "    <tr>\n",
       "      <th>0</th>\n",
       "      <td>{\"username\": \"jthompson\", \"name\": \"Karen Mayer...</td>\n",
       "      <td>jthompson</td>\n",
       "      <td>matthew38@gmail.com</td>\n",
       "      <td>Karen Mayer</td>\n",
       "      <td>F</td>\n",
       "      <td>32</td>\n",
       "      <td>331 Bradley Junctions\\nNew Terriborough, NH 90405</td>\n",
       "    </tr>\n",
       "    <tr>\n",
       "      <th>1</th>\n",
       "      <td>{\"username\": \"jthompson\", \"name\": \"Karen Mayer...</td>\n",
       "      <td>jthompson</td>\n",
       "      <td>matthew38@gmail.com</td>\n",
       "      <td>Karen Mayer</td>\n",
       "      <td>F</td>\n",
       "      <td>32</td>\n",
       "      <td>331 Bradley Junctions\\nNew Terriborough, NH 90405</td>\n",
       "    </tr>\n",
       "  </tbody>\n",
       "</table>\n",
       "</div>"
      ],
      "text/plain": [
       "                                                user   username  \\\n",
       "0  {\"username\": \"jthompson\", \"name\": \"Karen Mayer...  jthompson   \n",
       "1  {\"username\": \"jthompson\", \"name\": \"Karen Mayer...  jthompson   \n",
       "\n",
       "                 email         name gender  age  \\\n",
       "0  matthew38@gmail.com  Karen Mayer      F   32   \n",
       "1  matthew38@gmail.com  Karen Mayer      F   32   \n",
       "\n",
       "                                             address  \n",
       "0  331 Bradley Junctions\\nNew Terriborough, NH 90405  \n",
       "1  331 Bradley Junctions\\nNew Terriborough, NH 90405  "
      ]
     },
     "execution_count": 26,
     "metadata": {},
     "output_type": "execute_result"
    }
   ],
   "source": [
    "# and take a look\n",
    "df[['user'] + user_cols].head(2)"
   ]
  },
  {
   "cell_type": "code",
   "execution_count": 27,
   "metadata": {
    "collapsed": false
   },
   "outputs": [],
   "source": [
    "# now we have the DataFrame completely expanded\n",
    "# fix the column names\n",
    "better_columns = [\n",
    "    'Budget', 'Clicks', 'Impressions',\n",
    "    'cmp_name', 'Spent', 'user',\n",
    "    'Type', 'Start', 'End',\n",
    "    'Target Age', 'Target Gender', 'Currency',\n",
    "    'Username', 'Email', 'Name',\n",
    "    'Gender', 'Age', 'Address',\n",
    "]\n",
    "df.columns = better_columns"
   ]
  },
  {
   "cell_type": "code",
   "execution_count": 28,
   "metadata": {
    "collapsed": false
   },
   "outputs": [],
   "source": [
    "# add three other columns\n",
    "def calculate_extra_columns(df):\n",
    "    # Click Through Rate\n",
    "    df['CTR'] = df['Clicks'] / df['Impressions']\n",
    "    # Cost Per Click\n",
    "    df['CPC'] = df['Spent'] / df['Clicks']\n",
    "    # Cost Per Impression\n",
    "    df['CPI'] = df['Spent'] / df['Impressions']\n",
    "    \n",
    "calculate_extra_columns(df)"
   ]
  },
  {
   "cell_type": "code",
   "execution_count": 29,
   "metadata": {
    "collapsed": false
   },
   "outputs": [
    {
     "data": {
      "text/html": [
       "<div>\n",
       "<table border=\"1\" class=\"dataframe\">\n",
       "  <thead>\n",
       "    <tr style=\"text-align: right;\">\n",
       "      <th></th>\n",
       "      <th>Spent</th>\n",
       "      <th>Clicks</th>\n",
       "      <th>Impressions</th>\n",
       "      <th>CTR</th>\n",
       "      <th>CPC</th>\n",
       "      <th>CPI</th>\n",
       "    </tr>\n",
       "  </thead>\n",
       "  <tbody>\n",
       "    <tr>\n",
       "      <th>0</th>\n",
       "      <td>136661</td>\n",
       "      <td>63363</td>\n",
       "      <td>500001</td>\n",
       "      <td>0.126726</td>\n",
       "      <td>2.156795</td>\n",
       "      <td>0.273321</td>\n",
       "    </tr>\n",
       "    <tr>\n",
       "      <th>1</th>\n",
       "      <td>442828</td>\n",
       "      <td>34174</td>\n",
       "      <td>499996</td>\n",
       "      <td>0.068349</td>\n",
       "      <td>12.958038</td>\n",
       "      <td>0.885663</td>\n",
       "    </tr>\n",
       "    <tr>\n",
       "      <th>2</th>\n",
       "      <td>184420</td>\n",
       "      <td>18663</td>\n",
       "      <td>499999</td>\n",
       "      <td>0.037326</td>\n",
       "      <td>9.881584</td>\n",
       "      <td>0.368841</td>\n",
       "    </tr>\n",
       "  </tbody>\n",
       "</table>\n",
       "</div>"
      ],
      "text/plain": [
       "    Spent  Clicks  Impressions       CTR        CPC       CPI\n",
       "0  136661   63363       500001  0.126726   2.156795  0.273321\n",
       "1  442828   34174       499996  0.068349  12.958038  0.885663\n",
       "2  184420   18663       499999  0.037326   9.881584  0.368841"
      ]
     },
     "execution_count": 29,
     "metadata": {},
     "output_type": "execute_result"
    }
   ],
   "source": [
    "# take a look\n",
    "df[['Spent', 'Clicks', 'Impressions',\n",
    "    'CTR', 'CPC', 'CPI']].head(3)"
   ]
  },
  {
   "cell_type": "code",
   "execution_count": 30,
   "metadata": {
    "collapsed": false
   },
   "outputs": [
    {
     "name": "stdout",
     "output_type": "stream",
     "text": [
      "CTR: 0.126725746549 0.126725746549\n",
      "CPC: 2.15679497499 2.15679497499\n",
      "CPI: 0.273321453357 0.273321453357\n"
     ]
    }
   ],
   "source": [
    "# let's take the values of the first row and verify\n",
    "clicks = df['Clicks'][0]\n",
    "impressions = df['Impressions'][0]\n",
    "spent = df['Spent'][0]\n",
    "\n",
    "CTR = df['CTR'][0]\n",
    "CPC = df['CPC'][0]\n",
    "CPI = df['CPI'][0]\n",
    "\n",
    "print('CTR:', CTR, clicks / impressions)\n",
    "print('CPC:', CPC, spent / clicks)\n",
    "print('CPI:', CPI, spent / impressions)"
   ]
  },
  {
   "cell_type": "code",
   "execution_count": 31,
   "metadata": {
    "collapsed": false
   },
   "outputs": [],
   "source": [
    "# let's also add the name of the Day when campaign starts\n",
    "def get_day_of_the_week(day):\n",
    "    number_to_day = dict(enumerate(calendar.day_name, 1))\n",
    "    return number_to_day[day.isoweekday()]\n",
    "\n",
    "def get_duration(row):\n",
    "    return (row['End'] - row['Start']).days\n",
    "\n",
    "df['Day of Week'] = df['Start'].apply(get_day_of_the_week)\n",
    "df['Duration'] = df.apply(get_duration, axis=1)"
   ]
  },
  {
   "cell_type": "code",
   "execution_count": 32,
   "metadata": {
    "collapsed": false
   },
   "outputs": [
    {
     "data": {
      "text/html": [
       "<div>\n",
       "<table border=\"1\" class=\"dataframe\">\n",
       "  <thead>\n",
       "    <tr style=\"text-align: right;\">\n",
       "      <th></th>\n",
       "      <th>Start</th>\n",
       "      <th>End</th>\n",
       "      <th>Duration</th>\n",
       "      <th>Day of Week</th>\n",
       "    </tr>\n",
       "  </thead>\n",
       "  <tbody>\n",
       "    <tr>\n",
       "      <th>0</th>\n",
       "      <td>2018-04-19</td>\n",
       "      <td>2018-12-21</td>\n",
       "      <td>246</td>\n",
       "      <td>Thursday</td>\n",
       "    </tr>\n",
       "    <tr>\n",
       "      <th>1</th>\n",
       "      <td>2017-10-15</td>\n",
       "      <td>2018-11-28</td>\n",
       "      <td>409</td>\n",
       "      <td>Sunday</td>\n",
       "    </tr>\n",
       "    <tr>\n",
       "      <th>2</th>\n",
       "      <td>2018-04-27</td>\n",
       "      <td>2018-05-19</td>\n",
       "      <td>22</td>\n",
       "      <td>Friday</td>\n",
       "    </tr>\n",
       "  </tbody>\n",
       "</table>\n",
       "</div>"
      ],
      "text/plain": [
       "        Start         End  Duration Day of Week\n",
       "0  2018-04-19  2018-12-21       246    Thursday\n",
       "1  2017-10-15  2018-11-28       409      Sunday\n",
       "2  2018-04-27  2018-05-19        22      Friday"
      ]
     },
     "execution_count": 32,
     "metadata": {},
     "output_type": "execute_result"
    }
   ],
   "source": [
    "# let's verify\n",
    "df[['Start', 'End', 'Duration', 'Day of Week']].head(3)"
   ]
  },
  {
   "cell_type": "code",
   "execution_count": 33,
   "metadata": {
    "collapsed": false
   },
   "outputs": [],
   "source": [
    "# now let's get rid of the cmp_name and user columns,\n",
    "# which we don't need any more, and address too\n",
    "final_columns = [\n",
    "    'Type', 'Start', 'End', 'Duration', 'Day of Week', 'Budget',\n",
    "    'Currency', 'Clicks', 'Impressions', 'Spent', 'CTR', 'CPC',\n",
    "    'CPI', 'Target Age', 'Target Gender', 'Username', 'Email',\n",
    "    'Name', 'Gender', 'Age'\n",
    "]\n",
    "df = df[final_columns]"
   ]
  },
  {
   "cell_type": "markdown",
   "metadata": {},
   "source": [
    "## 4 - Saving to a file in different formats"
   ]
  },
  {
   "cell_type": "code",
   "execution_count": 34,
   "metadata": {
    "collapsed": true
   },
   "outputs": [],
   "source": [
    "# CSV format\n",
    "df.to_csv('df.csv')"
   ]
  },
  {
   "cell_type": "code",
   "execution_count": 35,
   "metadata": {
    "collapsed": true
   },
   "outputs": [],
   "source": [
    "# JSON format\n",
    "# df.to_json('df.json')"
   ]
  },
  {
   "cell_type": "code",
   "execution_count": 36,
   "metadata": {
    "collapsed": false
   },
   "outputs": [],
   "source": [
    "# Spreadsheet format\n",
    "# df.to_excel('df.xls')"
   ]
  },
  {
   "cell_type": "markdown",
   "metadata": {},
   "source": [
    "## 5 - Visualizing results"
   ]
  },
  {
   "cell_type": "markdown",
   "metadata": {},
   "source": [
    "First let's take care of the graphics, we need to instruct the notebook to use matplotlib inline and the serif font family."
   ]
  },
  {
   "cell_type": "code",
   "execution_count": 37,
   "metadata": {
    "collapsed": true
   },
   "outputs": [],
   "source": [
    "%matplotlib inline"
   ]
  },
  {
   "cell_type": "code",
   "execution_count": 38,
   "metadata": {
    "collapsed": true
   },
   "outputs": [],
   "source": [
    "import pylab\n",
    "pylab.rcParams.update({'font.family' : 'serif'})"
   ]
  },
  {
   "cell_type": "code",
   "execution_count": 39,
   "metadata": {
    "collapsed": false
   },
   "outputs": [
    {
     "data": {
      "text/html": [
       "<div>\n",
       "<table border=\"1\" class=\"dataframe\">\n",
       "  <thead>\n",
       "    <tr style=\"text-align: right;\">\n",
       "      <th></th>\n",
       "      <th>Duration</th>\n",
       "      <th>Budget</th>\n",
       "      <th>Clicks</th>\n",
       "      <th>Impressions</th>\n",
       "      <th>Spent</th>\n",
       "      <th>CTR</th>\n",
       "      <th>CPC</th>\n",
       "      <th>CPI</th>\n",
       "      <th>Age</th>\n",
       "    </tr>\n",
       "  </thead>\n",
       "  <tbody>\n",
       "    <tr>\n",
       "      <th>count</th>\n",
       "      <td>5023.000000</td>\n",
       "      <td>5023.000000</td>\n",
       "      <td>5023.000000</td>\n",
       "      <td>5023.000000</td>\n",
       "      <td>5023.000000</td>\n",
       "      <td>5023.000000</td>\n",
       "      <td>5023.000000</td>\n",
       "      <td>5023.000000</td>\n",
       "      <td>5023.000000</td>\n",
       "    </tr>\n",
       "    <tr>\n",
       "      <th>mean</th>\n",
       "      <td>372.288672</td>\n",
       "      <td>509543.082023</td>\n",
       "      <td>40008.977304</td>\n",
       "      <td>499999.508461</td>\n",
       "      <td>254789.380052</td>\n",
       "      <td>0.080018</td>\n",
       "      <td>10.051271</td>\n",
       "      <td>0.509579</td>\n",
       "      <td>53.049572</td>\n",
       "    </tr>\n",
       "    <tr>\n",
       "      <th>std</th>\n",
       "      <td>248.165762</td>\n",
       "      <td>288744.410084</td>\n",
       "      <td>21450.824048</td>\n",
       "      <td>2.000766</td>\n",
       "      <td>222649.688020</td>\n",
       "      <td>0.042902</td>\n",
       "      <td>17.939814</td>\n",
       "      <td>0.445300</td>\n",
       "      <td>21.661403</td>\n",
       "    </tr>\n",
       "    <tr>\n",
       "      <th>min</th>\n",
       "      <td>-329.000000</td>\n",
       "      <td>1246.000000</td>\n",
       "      <td>639.000000</td>\n",
       "      <td>499993.000000</td>\n",
       "      <td>126.000000</td>\n",
       "      <td>0.001278</td>\n",
       "      <td>0.003453</td>\n",
       "      <td>0.000252</td>\n",
       "      <td>18.000000</td>\n",
       "    </tr>\n",
       "    <tr>\n",
       "      <th>25%</th>\n",
       "      <td>186.000000</td>\n",
       "      <td>261080.500000</td>\n",
       "      <td>22580.500000</td>\n",
       "      <td>499998.000000</td>\n",
       "      <td>69295.500000</td>\n",
       "      <td>0.045161</td>\n",
       "      <td>1.822182</td>\n",
       "      <td>0.138591</td>\n",
       "      <td>34.000000</td>\n",
       "    </tr>\n",
       "    <tr>\n",
       "      <th>50%</th>\n",
       "      <td>373.000000</td>\n",
       "      <td>515663.000000</td>\n",
       "      <td>36965.000000</td>\n",
       "      <td>500000.000000</td>\n",
       "      <td>195029.000000</td>\n",
       "      <td>0.073930</td>\n",
       "      <td>5.345242</td>\n",
       "      <td>0.390058</td>\n",
       "      <td>52.000000</td>\n",
       "    </tr>\n",
       "    <tr>\n",
       "      <th>75%</th>\n",
       "      <td>561.000000</td>\n",
       "      <td>759700.500000</td>\n",
       "      <td>55266.500000</td>\n",
       "      <td>500001.000000</td>\n",
       "      <td>391621.500000</td>\n",
       "      <td>0.110533</td>\n",
       "      <td>11.809845</td>\n",
       "      <td>0.783244</td>\n",
       "      <td>72.000000</td>\n",
       "    </tr>\n",
       "    <tr>\n",
       "      <th>max</th>\n",
       "      <td>1046.000000</td>\n",
       "      <td>999370.000000</td>\n",
       "      <td>99335.000000</td>\n",
       "      <td>500007.000000</td>\n",
       "      <td>988815.000000</td>\n",
       "      <td>0.198670</td>\n",
       "      <td>398.096520</td>\n",
       "      <td>1.977618</td>\n",
       "      <td>90.000000</td>\n",
       "    </tr>\n",
       "  </tbody>\n",
       "</table>\n",
       "</div>"
      ],
      "text/plain": [
       "          Duration         Budget        Clicks    Impressions          Spent  \\\n",
       "count  5023.000000    5023.000000   5023.000000    5023.000000    5023.000000   \n",
       "mean    372.288672  509543.082023  40008.977304  499999.508461  254789.380052   \n",
       "std     248.165762  288744.410084  21450.824048       2.000766  222649.688020   \n",
       "min    -329.000000    1246.000000    639.000000  499993.000000     126.000000   \n",
       "25%     186.000000  261080.500000  22580.500000  499998.000000   69295.500000   \n",
       "50%     373.000000  515663.000000  36965.000000  500000.000000  195029.000000   \n",
       "75%     561.000000  759700.500000  55266.500000  500001.000000  391621.500000   \n",
       "max    1046.000000  999370.000000  99335.000000  500007.000000  988815.000000   \n",
       "\n",
       "               CTR          CPC          CPI          Age  \n",
       "count  5023.000000  5023.000000  5023.000000  5023.000000  \n",
       "mean      0.080018    10.051271     0.509579    53.049572  \n",
       "std       0.042902    17.939814     0.445300    21.661403  \n",
       "min       0.001278     0.003453     0.000252    18.000000  \n",
       "25%       0.045161     1.822182     0.138591    34.000000  \n",
       "50%       0.073930     5.345242     0.390058    52.000000  \n",
       "75%       0.110533    11.809845     0.783244    72.000000  \n",
       "max       0.198670   398.096520     1.977618    90.000000  "
      ]
     },
     "execution_count": 39,
     "metadata": {},
     "output_type": "execute_result"
    }
   ],
   "source": [
    "df.describe()"
   ]
  },
  {
   "cell_type": "code",
   "execution_count": 40,
   "metadata": {
    "collapsed": false
   },
   "outputs": [
    {
     "data": {
      "image/png": "[encoded data removed]",
      "text/plain": [
       "<matplotlib.figure.Figure at 0x114a7c400>"
      ]
     },
     "metadata": {},
     "output_type": "display_data"
    }
   ],
   "source": [
    "df[['Budget', 'Spent', 'Clicks', 'Impressions']].hist(bins=16, figsize=(16, 6));"
   ]
  },
  {
   "cell_type": "code",
   "execution_count": 41,
   "metadata": {
    "collapsed": false
   },
   "outputs": [
    {
     "data": {
      "image/png": "[encoded data removed]",
      "text/plain": [
       "<matplotlib.figure.Figure at 0x1148aeef0>"
      ]
     },
     "metadata": {},
     "output_type": "display_data"
    }
   ],
   "source": [
    "df[['CTR', 'CPC', 'CPI']].hist(bins=20, figsize=(16, 6));"
   ]
  },
  {
   "cell_type": "code",
   "execution_count": 42,
   "metadata": {
    "collapsed": false
   },
   "outputs": [
    {
     "data": {
      "image/png": "[encoded data removed]",
      "text/plain": [
       "<matplotlib.figure.Figure at 0x1189882e8>"
      ]
     },
     "metadata": {},
     "output_type": "display_data"
    }
   ],
   "source": [
    "# let's see the campaigns whose spent is > than 75% of the budget\n",
    "mask = (df.Spent > 0.75 * df.Budget)\n",
    "df[mask][['Budget', 'Spent', 'Clicks', 'Impressions']].hist(\n",
    "    bins=15, figsize=(16, 6), color='g');"
   ]
  },
  {
   "cell_type": "code",
   "execution_count": 43,
   "metadata": {
    "collapsed": false
   },
   "outputs": [
    {
     "data": {
      "image/png": "[encoded data removed]",
      "text/plain": [
       "<matplotlib.figure.Figure at 0x1188d9f60>"
      ]
     },
     "metadata": {},
     "output_type": "display_data"
    }
   ],
   "source": [
    "# Let's aggregate per Day of the Week\n",
    "df_weekday = df.groupby(['Day of Week']).sum()\n",
    "df_weekday[['Impressions', 'Spent', 'Clicks']].plot(\n",
    "    figsize=(16, 6), subplots=True);"
   ]
  },
  {
   "cell_type": "code",
   "execution_count": 44,
   "metadata": {
    "collapsed": false
   },
   "outputs": [
    {
     "data": {
      "text/html": [
       "<div>\n",
       "<table border=\"1\" class=\"dataframe\">\n",
       "  <thead>\n",
       "    <tr>\n",
       "      <th></th>\n",
       "      <th></th>\n",
       "      <th colspan=\"2\" halign=\"left\">Impressions</th>\n",
       "      <th colspan=\"2\" halign=\"left\">Spent</th>\n",
       "    </tr>\n",
       "    <tr>\n",
       "      <th></th>\n",
       "      <th></th>\n",
       "      <th>Mean Impr</th>\n",
       "      <th>Std Impr</th>\n",
       "      <th>mean</th>\n",
       "      <th>std</th>\n",
       "    </tr>\n",
       "    <tr>\n",
       "      <th>Target Gender</th>\n",
       "      <th>Target Age</th>\n",
       "      <th></th>\n",
       "      <th></th>\n",
       "      <th></th>\n",
       "      <th></th>\n",
       "    </tr>\n",
       "  </thead>\n",
       "  <tbody>\n",
       "    <tr>\n",
       "      <th rowspan=\"30\" valign=\"top\">B</th>\n",
       "      <th>20-25</th>\n",
       "      <td>499999</td>\n",
       "      <td>1.942088</td>\n",
       "      <td>238830</td>\n",
       "      <td>204433.925145</td>\n",
       "    </tr>\n",
       "    <tr>\n",
       "      <th>20-30</th>\n",
       "      <td>499999</td>\n",
       "      <td>2.024288</td>\n",
       "      <td>286402</td>\n",
       "      <td>247419.481348</td>\n",
       "    </tr>\n",
       "    <tr>\n",
       "      <th>20-35</th>\n",
       "      <td>499999</td>\n",
       "      <td>1.896235</td>\n",
       "      <td>269008</td>\n",
       "      <td>228855.152345</td>\n",
       "    </tr>\n",
       "    <tr>\n",
       "      <th>20-40</th>\n",
       "      <td>499999</td>\n",
       "      <td>1.949235</td>\n",
       "      <td>259053</td>\n",
       "      <td>229804.177081</td>\n",
       "    </tr>\n",
       "    <tr>\n",
       "      <th>20-45</th>\n",
       "      <td>499999</td>\n",
       "      <td>2.844452</td>\n",
       "      <td>181886</td>\n",
       "      <td>187776.416799</td>\n",
       "    </tr>\n",
       "    <tr>\n",
       "      <th>25-30</th>\n",
       "      <td>499999</td>\n",
       "      <td>2.061501</td>\n",
       "      <td>227948</td>\n",
       "      <td>194842.394628</td>\n",
       "    </tr>\n",
       "    <tr>\n",
       "      <th>25-35</th>\n",
       "      <td>499999</td>\n",
       "      <td>1.981537</td>\n",
       "      <td>248118</td>\n",
       "      <td>236515.364980</td>\n",
       "    </tr>\n",
       "    <tr>\n",
       "      <th>25-40</th>\n",
       "      <td>499999</td>\n",
       "      <td>2.087542</td>\n",
       "      <td>235492</td>\n",
       "      <td>196347.167667</td>\n",
       "    </tr>\n",
       "    <tr>\n",
       "      <th>25-45</th>\n",
       "      <td>499998</td>\n",
       "      <td>1.624924</td>\n",
       "      <td>224957</td>\n",
       "      <td>209094.582896</td>\n",
       "    </tr>\n",
       "    <tr>\n",
       "      <th>25-50</th>\n",
       "      <td>499999</td>\n",
       "      <td>1.519109</td>\n",
       "      <td>224839</td>\n",
       "      <td>215368.609223</td>\n",
       "    </tr>\n",
       "    <tr>\n",
       "      <th>30-35</th>\n",
       "      <td>499999</td>\n",
       "      <td>1.633605</td>\n",
       "      <td>260095</td>\n",
       "      <td>254658.854519</td>\n",
       "    </tr>\n",
       "    <tr>\n",
       "      <th>30-40</th>\n",
       "      <td>499999</td>\n",
       "      <td>1.849419</td>\n",
       "      <td>214048</td>\n",
       "      <td>198636.590104</td>\n",
       "    </tr>\n",
       "    <tr>\n",
       "      <th>30-45</th>\n",
       "      <td>499999</td>\n",
       "      <td>1.860609</td>\n",
       "      <td>228176</td>\n",
       "      <td>193917.776220</td>\n",
       "    </tr>\n",
       "    <tr>\n",
       "      <th>30-50</th>\n",
       "      <td>499999</td>\n",
       "      <td>2.188766</td>\n",
       "      <td>254674</td>\n",
       "      <td>241663.643562</td>\n",
       "    </tr>\n",
       "    <tr>\n",
       "      <th>30-55</th>\n",
       "      <td>500000</td>\n",
       "      <td>1.768945</td>\n",
       "      <td>134680</td>\n",
       "      <td>110022.499068</td>\n",
       "    </tr>\n",
       "    <tr>\n",
       "      <th>35-40</th>\n",
       "      <td>499999</td>\n",
       "      <td>1.954400</td>\n",
       "      <td>236064</td>\n",
       "      <td>238528.381778</td>\n",
       "    </tr>\n",
       "    <tr>\n",
       "      <th>35-45</th>\n",
       "      <td>499999</td>\n",
       "      <td>1.830467</td>\n",
       "      <td>202621</td>\n",
       "      <td>205543.949901</td>\n",
       "    </tr>\n",
       "    <tr>\n",
       "      <th>35-50</th>\n",
       "      <td>500000</td>\n",
       "      <td>1.799529</td>\n",
       "      <td>272159</td>\n",
       "      <td>210151.444220</td>\n",
       "    </tr>\n",
       "    <tr>\n",
       "      <th>35-55</th>\n",
       "      <td>499999</td>\n",
       "      <td>2.096828</td>\n",
       "      <td>243810</td>\n",
       "      <td>201570.597607</td>\n",
       "    </tr>\n",
       "    <tr>\n",
       "      <th>35-60</th>\n",
       "      <td>500000</td>\n",
       "      <td>2.148871</td>\n",
       "      <td>276523</td>\n",
       "      <td>217944.145215</td>\n",
       "    </tr>\n",
       "    <tr>\n",
       "      <th>40-45</th>\n",
       "      <td>499999</td>\n",
       "      <td>1.931967</td>\n",
       "      <td>249306</td>\n",
       "      <td>222829.017703</td>\n",
       "    </tr>\n",
       "    <tr>\n",
       "      <th>40-50</th>\n",
       "      <td>499999</td>\n",
       "      <td>2.041727</td>\n",
       "      <td>242879</td>\n",
       "      <td>220991.481592</td>\n",
       "    </tr>\n",
       "    <tr>\n",
       "      <th>40-55</th>\n",
       "      <td>499999</td>\n",
       "      <td>2.132655</td>\n",
       "      <td>234678</td>\n",
       "      <td>229435.740438</td>\n",
       "    </tr>\n",
       "    <tr>\n",
       "      <th>40-60</th>\n",
       "      <td>499999</td>\n",
       "      <td>2.004889</td>\n",
       "      <td>283646</td>\n",
       "      <td>223294.330594</td>\n",
       "    </tr>\n",
       "    <tr>\n",
       "      <th>40-65</th>\n",
       "      <td>499998</td>\n",
       "      <td>1.804036</td>\n",
       "      <td>163384</td>\n",
       "      <td>202004.870336</td>\n",
       "    </tr>\n",
       "    <tr>\n",
       "      <th>45-50</th>\n",
       "      <td>499999</td>\n",
       "      <td>2.715695</td>\n",
       "      <td>292130</td>\n",
       "      <td>214051.066529</td>\n",
       "    </tr>\n",
       "    <tr>\n",
       "      <th>45-55</th>\n",
       "      <td>500000</td>\n",
       "      <td>1.772811</td>\n",
       "      <td>297306</td>\n",
       "      <td>187310.295423</td>\n",
       "    </tr>\n",
       "    <tr>\n",
       "      <th>45-60</th>\n",
       "      <td>500000</td>\n",
       "      <td>1.756408</td>\n",
       "      <td>198771</td>\n",
       "      <td>151140.556672</td>\n",
       "    </tr>\n",
       "    <tr>\n",
       "      <th>45-65</th>\n",
       "      <td>499999</td>\n",
       "      <td>1.452546</td>\n",
       "      <td>377008</td>\n",
       "      <td>312336.658967</td>\n",
       "    </tr>\n",
       "    <tr>\n",
       "      <th>45-70</th>\n",
       "      <td>500001</td>\n",
       "      <td>2.645751</td>\n",
       "      <td>195065</td>\n",
       "      <td>126066.355528</td>\n",
       "    </tr>\n",
       "    <tr>\n",
       "      <th>...</th>\n",
       "      <th>...</th>\n",
       "      <td>...</td>\n",
       "      <td>...</td>\n",
       "      <td>...</td>\n",
       "      <td>...</td>\n",
       "    </tr>\n",
       "    <tr>\n",
       "      <th rowspan=\"30\" valign=\"top\">M</th>\n",
       "      <th>20-25</th>\n",
       "      <td>499999</td>\n",
       "      <td>1.952130</td>\n",
       "      <td>167887</td>\n",
       "      <td>158608.156904</td>\n",
       "    </tr>\n",
       "    <tr>\n",
       "      <th>20-30</th>\n",
       "      <td>499999</td>\n",
       "      <td>1.939553</td>\n",
       "      <td>285658</td>\n",
       "      <td>253345.202462</td>\n",
       "    </tr>\n",
       "    <tr>\n",
       "      <th>20-35</th>\n",
       "      <td>499999</td>\n",
       "      <td>2.201719</td>\n",
       "      <td>233174</td>\n",
       "      <td>214109.256560</td>\n",
       "    </tr>\n",
       "    <tr>\n",
       "      <th>20-40</th>\n",
       "      <td>499999</td>\n",
       "      <td>2.095744</td>\n",
       "      <td>268030</td>\n",
       "      <td>231741.544765</td>\n",
       "    </tr>\n",
       "    <tr>\n",
       "      <th>20-45</th>\n",
       "      <td>500000</td>\n",
       "      <td>2.042408</td>\n",
       "      <td>260649</td>\n",
       "      <td>184857.335041</td>\n",
       "    </tr>\n",
       "    <tr>\n",
       "      <th>25-30</th>\n",
       "      <td>499999</td>\n",
       "      <td>1.757558</td>\n",
       "      <td>261995</td>\n",
       "      <td>232011.247578</td>\n",
       "    </tr>\n",
       "    <tr>\n",
       "      <th>25-35</th>\n",
       "      <td>499999</td>\n",
       "      <td>2.043347</td>\n",
       "      <td>237139</td>\n",
       "      <td>198426.724275</td>\n",
       "    </tr>\n",
       "    <tr>\n",
       "      <th>25-40</th>\n",
       "      <td>499999</td>\n",
       "      <td>2.099920</td>\n",
       "      <td>256447</td>\n",
       "      <td>269408.020302</td>\n",
       "    </tr>\n",
       "    <tr>\n",
       "      <th>25-45</th>\n",
       "      <td>499999</td>\n",
       "      <td>1.843127</td>\n",
       "      <td>249533</td>\n",
       "      <td>237966.000843</td>\n",
       "    </tr>\n",
       "    <tr>\n",
       "      <th>25-50</th>\n",
       "      <td>499999</td>\n",
       "      <td>2.093407</td>\n",
       "      <td>242027</td>\n",
       "      <td>194587.233711</td>\n",
       "    </tr>\n",
       "    <tr>\n",
       "      <th>30-35</th>\n",
       "      <td>499999</td>\n",
       "      <td>1.955428</td>\n",
       "      <td>245002</td>\n",
       "      <td>210085.746924</td>\n",
       "    </tr>\n",
       "    <tr>\n",
       "      <th>30-40</th>\n",
       "      <td>499999</td>\n",
       "      <td>1.978971</td>\n",
       "      <td>280585</td>\n",
       "      <td>214438.530113</td>\n",
       "    </tr>\n",
       "    <tr>\n",
       "      <th>30-45</th>\n",
       "      <td>499999</td>\n",
       "      <td>2.059060</td>\n",
       "      <td>286462</td>\n",
       "      <td>249455.072973</td>\n",
       "    </tr>\n",
       "    <tr>\n",
       "      <th>30-50</th>\n",
       "      <td>499999</td>\n",
       "      <td>1.921711</td>\n",
       "      <td>278870</td>\n",
       "      <td>220948.992479</td>\n",
       "    </tr>\n",
       "    <tr>\n",
       "      <th>30-55</th>\n",
       "      <td>499999</td>\n",
       "      <td>1.691892</td>\n",
       "      <td>239942</td>\n",
       "      <td>252508.572788</td>\n",
       "    </tr>\n",
       "    <tr>\n",
       "      <th>35-40</th>\n",
       "      <td>499999</td>\n",
       "      <td>2.075164</td>\n",
       "      <td>237429</td>\n",
       "      <td>209796.382440</td>\n",
       "    </tr>\n",
       "    <tr>\n",
       "      <th>35-45</th>\n",
       "      <td>499999</td>\n",
       "      <td>2.026174</td>\n",
       "      <td>255613</td>\n",
       "      <td>207762.076143</td>\n",
       "    </tr>\n",
       "    <tr>\n",
       "      <th>35-50</th>\n",
       "      <td>499999</td>\n",
       "      <td>2.012036</td>\n",
       "      <td>294904</td>\n",
       "      <td>229112.950301</td>\n",
       "    </tr>\n",
       "    <tr>\n",
       "      <th>35-55</th>\n",
       "      <td>499999</td>\n",
       "      <td>1.880042</td>\n",
       "      <td>224029</td>\n",
       "      <td>220276.468922</td>\n",
       "    </tr>\n",
       "    <tr>\n",
       "      <th>35-60</th>\n",
       "      <td>499999</td>\n",
       "      <td>2.624669</td>\n",
       "      <td>367621</td>\n",
       "      <td>301779.770327</td>\n",
       "    </tr>\n",
       "    <tr>\n",
       "      <th>40-45</th>\n",
       "      <td>499999</td>\n",
       "      <td>2.049290</td>\n",
       "      <td>285881</td>\n",
       "      <td>216178.634103</td>\n",
       "    </tr>\n",
       "    <tr>\n",
       "      <th>40-50</th>\n",
       "      <td>499999</td>\n",
       "      <td>2.068606</td>\n",
       "      <td>252209</td>\n",
       "      <td>253846.216448</td>\n",
       "    </tr>\n",
       "    <tr>\n",
       "      <th>40-55</th>\n",
       "      <td>499999</td>\n",
       "      <td>2.003598</td>\n",
       "      <td>287783</td>\n",
       "      <td>199782.355128</td>\n",
       "    </tr>\n",
       "    <tr>\n",
       "      <th>40-60</th>\n",
       "      <td>499999</td>\n",
       "      <td>2.159799</td>\n",
       "      <td>237746</td>\n",
       "      <td>221771.373202</td>\n",
       "    </tr>\n",
       "    <tr>\n",
       "      <th>40-65</th>\n",
       "      <td>499999</td>\n",
       "      <td>1.761429</td>\n",
       "      <td>319725</td>\n",
       "      <td>254473.339426</td>\n",
       "    </tr>\n",
       "    <tr>\n",
       "      <th>45-50</th>\n",
       "      <td>499999</td>\n",
       "      <td>1.887760</td>\n",
       "      <td>282004</td>\n",
       "      <td>239347.402098</td>\n",
       "    </tr>\n",
       "    <tr>\n",
       "      <th>45-55</th>\n",
       "      <td>499999</td>\n",
       "      <td>1.423893</td>\n",
       "      <td>214504</td>\n",
       "      <td>223454.512034</td>\n",
       "    </tr>\n",
       "    <tr>\n",
       "      <th>45-60</th>\n",
       "      <td>499999</td>\n",
       "      <td>2.749026</td>\n",
       "      <td>271173</td>\n",
       "      <td>256195.541141</td>\n",
       "    </tr>\n",
       "    <tr>\n",
       "      <th>45-65</th>\n",
       "      <td>499998</td>\n",
       "      <td>1.996729</td>\n",
       "      <td>260184</td>\n",
       "      <td>235366.353658</td>\n",
       "    </tr>\n",
       "    <tr>\n",
       "      <th>45-70</th>\n",
       "      <td>500002</td>\n",
       "      <td>NaN</td>\n",
       "      <td>430376</td>\n",
       "      <td>NaN</td>\n",
       "    </tr>\n",
       "  </tbody>\n",
       "</table>\n",
       "<p>90 rows × 4 columns</p>\n",
       "</div>"
      ],
      "text/plain": [
       "                         Impressions             Spent               \n",
       "                           Mean Impr  Std Impr    mean            std\n",
       "Target Gender Target Age                                             \n",
       "B             20-25           499999  1.942088  238830  204433.925145\n",
       "              20-30           499999  2.024288  286402  247419.481348\n",
       "              20-35           499999  1.896235  269008  228855.152345\n",
       "              20-40           499999  1.949235  259053  229804.177081\n",
       "              20-45           499999  2.844452  181886  187776.416799\n",
       "              25-30           499999  2.061501  227948  194842.394628\n",
       "              25-35           499999  1.981537  248118  236515.364980\n",
       "              25-40           499999  2.087542  235492  196347.167667\n",
       "              25-45           499998  1.624924  224957  209094.582896\n",
       "              25-50           499999  1.519109  224839  215368.609223\n",
       "              30-35           499999  1.633605  260095  254658.854519\n",
       "              30-40           499999  1.849419  214048  198636.590104\n",
       "              30-45           499999  1.860609  228176  193917.776220\n",
       "              30-50           499999  2.188766  254674  241663.643562\n",
       "              30-55           500000  1.768945  134680  110022.499068\n",
       "              35-40           499999  1.954400  236064  238528.381778\n",
       "              35-45           499999  1.830467  202621  205543.949901\n",
       "              35-50           500000  1.799529  272159  210151.444220\n",
       "              35-55           499999  2.096828  243810  201570.597607\n",
       "              35-60           500000  2.148871  276523  217944.145215\n",
       "              40-45           499999  1.931967  249306  222829.017703\n",
       "              40-50           499999  2.041727  242879  220991.481592\n",
       "              40-55           499999  2.132655  234678  229435.740438\n",
       "              40-60           499999  2.004889  283646  223294.330594\n",
       "              40-65           499998  1.804036  163384  202004.870336\n",
       "              45-50           499999  2.715695  292130  214051.066529\n",
       "              45-55           500000  1.772811  297306  187310.295423\n",
       "              45-60           500000  1.756408  198771  151140.556672\n",
       "              45-65           499999  1.452546  377008  312336.658967\n",
       "              45-70           500001  2.645751  195065  126066.355528\n",
       "...                              ...       ...     ...            ...\n",
       "M             20-25           499999  1.952130  167887  158608.156904\n",
       "              20-30           499999  1.939553  285658  253345.202462\n",
       "              20-35           499999  2.201719  233174  214109.256560\n",
       "              20-40           499999  2.095744  268030  231741.544765\n",
       "              20-45           500000  2.042408  260649  184857.335041\n",
       "              25-30           499999  1.757558  261995  232011.247578\n",
       "              25-35           499999  2.043347  237139  198426.724275\n",
       "              25-40           499999  2.099920  256447  269408.020302\n",
       "              25-45           499999  1.843127  249533  237966.000843\n",
       "              25-50           499999  2.093407  242027  194587.233711\n",
       "              30-35           499999  1.955428  245002  210085.746924\n",
       "              30-40           499999  1.978971  280585  214438.530113\n",
       "              30-45           499999  2.059060  286462  249455.072973\n",
       "              30-50           499999  1.921711  278870  220948.992479\n",
       "              30-55           499999  1.691892  239942  252508.572788\n",
       "              35-40           499999  2.075164  237429  209796.382440\n",
       "              35-45           499999  2.026174  255613  207762.076143\n",
       "              35-50           499999  2.012036  294904  229112.950301\n",
       "              35-55           499999  1.880042  224029  220276.468922\n",
       "              35-60           499999  2.624669  367621  301779.770327\n",
       "              40-45           499999  2.049290  285881  216178.634103\n",
       "              40-50           499999  2.068606  252209  253846.216448\n",
       "              40-55           499999  2.003598  287783  199782.355128\n",
       "              40-60           499999  2.159799  237746  221771.373202\n",
       "              40-65           499999  1.761429  319725  254473.339426\n",
       "              45-50           499999  1.887760  282004  239347.402098\n",
       "              45-55           499999  1.423893  214504  223454.512034\n",
       "              45-60           499999  2.749026  271173  256195.541141\n",
       "              45-65           499998  1.996729  260184  235366.353658\n",
       "              45-70           500002       NaN  430376            NaN\n",
       "\n",
       "[90 rows x 4 columns]"
      ]
     },
     "execution_count": 44,
     "metadata": {},
     "output_type": "execute_result"
    }
   ],
   "source": [
    "# Let's aggregate per gender\n",
    "agg_config = {\n",
    "    'Impressions': {\n",
    "        'Mean Impr': 'mean',\n",
    "        'Std Impr': 'std',\n",
    "    },\n",
    "    'Spent': ['mean', 'std'],\n",
    "}\n",
    "\n",
    "df.groupby(['Target Gender', 'Target Age']).agg(agg_config)"
   ]
  },
  {
   "cell_type": "code",
   "execution_count": 45,
   "metadata": {
    "collapsed": false
   },
   "outputs": [
    {
     "data": {
      "text/html": [
       "<div>\n",
       "<table border=\"1\" class=\"dataframe\">\n",
       "  <thead>\n",
       "    <tr>\n",
       "      <th></th>\n",
       "      <th colspan=\"3\" halign=\"left\">Impressions</th>\n",
       "      <th colspan=\"3\" halign=\"left\">Clicks</th>\n",
       "      <th colspan=\"3\" halign=\"left\">Spent</th>\n",
       "    </tr>\n",
       "    <tr>\n",
       "      <th>Target Gender</th>\n",
       "      <th>B</th>\n",
       "      <th>F</th>\n",
       "      <th>M</th>\n",
       "      <th>B</th>\n",
       "      <th>F</th>\n",
       "      <th>M</th>\n",
       "      <th>B</th>\n",
       "      <th>F</th>\n",
       "      <th>M</th>\n",
       "    </tr>\n",
       "    <tr>\n",
       "      <th>Target Age</th>\n",
       "      <th></th>\n",
       "      <th></th>\n",
       "      <th></th>\n",
       "      <th></th>\n",
       "      <th></th>\n",
       "      <th></th>\n",
       "      <th></th>\n",
       "      <th></th>\n",
       "      <th></th>\n",
       "    </tr>\n",
       "  </thead>\n",
       "  <tbody>\n",
       "    <tr>\n",
       "      <th>20-25</th>\n",
       "      <td>44499961</td>\n",
       "      <td>36999927</td>\n",
       "      <td>37499955</td>\n",
       "      <td>3515505</td>\n",
       "      <td>2901502</td>\n",
       "      <td>3430934</td>\n",
       "      <td>21255900</td>\n",
       "      <td>17823270</td>\n",
       "      <td>12591538</td>\n",
       "    </tr>\n",
       "    <tr>\n",
       "      <th>20-30</th>\n",
       "      <td>36999992</td>\n",
       "      <td>36999967</td>\n",
       "      <td>39999975</td>\n",
       "      <td>3117846</td>\n",
       "      <td>3313570</td>\n",
       "      <td>2953678</td>\n",
       "      <td>21193767</td>\n",
       "      <td>19498398</td>\n",
       "      <td>22852653</td>\n",
       "    </tr>\n",
       "    <tr>\n",
       "      <th>20-35</th>\n",
       "      <td>36999962</td>\n",
       "      <td>41999961</td>\n",
       "      <td>37499964</td>\n",
       "      <td>2785969</td>\n",
       "      <td>3224318</td>\n",
       "      <td>2722895</td>\n",
       "      <td>19906635</td>\n",
       "      <td>21686905</td>\n",
       "      <td>17488076</td>\n",
       "    </tr>\n",
       "    <tr>\n",
       "      <th>20-40</th>\n",
       "      <td>36999989</td>\n",
       "      <td>40499949</td>\n",
       "      <td>43499955</td>\n",
       "      <td>3081428</td>\n",
       "      <td>3285446</td>\n",
       "      <td>3147088</td>\n",
       "      <td>19169929</td>\n",
       "      <td>19127458</td>\n",
       "      <td>23318628</td>\n",
       "    </tr>\n",
       "    <tr>\n",
       "      <th>20-45</th>\n",
       "      <td>5499990</td>\n",
       "      <td>7999997</td>\n",
       "      <td>7500003</td>\n",
       "      <td>534272</td>\n",
       "      <td>658597</td>\n",
       "      <td>683121</td>\n",
       "      <td>2000756</td>\n",
       "      <td>3351053</td>\n",
       "      <td>3909738</td>\n",
       "    </tr>\n",
       "    <tr>\n",
       "      <th>25-30</th>\n",
       "      <td>34499978</td>\n",
       "      <td>29499955</td>\n",
       "      <td>37499966</td>\n",
       "      <td>2998019</td>\n",
       "      <td>2511848</td>\n",
       "      <td>2663368</td>\n",
       "      <td>15728473</td>\n",
       "      <td>14423859</td>\n",
       "      <td>19649690</td>\n",
       "    </tr>\n",
       "    <tr>\n",
       "      <th>25-35</th>\n",
       "      <td>43499959</td>\n",
       "      <td>40499975</td>\n",
       "      <td>39499958</td>\n",
       "      <td>3558087</td>\n",
       "      <td>3117977</td>\n",
       "      <td>3526380</td>\n",
       "      <td>21586301</td>\n",
       "      <td>24061329</td>\n",
       "      <td>18734018</td>\n",
       "    </tr>\n",
       "    <tr>\n",
       "      <th>25-40</th>\n",
       "      <td>36999945</td>\n",
       "      <td>34999950</td>\n",
       "      <td>36999991</td>\n",
       "      <td>2985485</td>\n",
       "      <td>2805939</td>\n",
       "      <td>2708036</td>\n",
       "      <td>17426456</td>\n",
       "      <td>20494211</td>\n",
       "      <td>18977087</td>\n",
       "    </tr>\n",
       "    <tr>\n",
       "      <th>25-45</th>\n",
       "      <td>39499919</td>\n",
       "      <td>32999953</td>\n",
       "      <td>37499986</td>\n",
       "      <td>3163758</td>\n",
       "      <td>2902590</td>\n",
       "      <td>3027008</td>\n",
       "      <td>17771640</td>\n",
       "      <td>16538376</td>\n",
       "      <td>18715001</td>\n",
       "    </tr>\n",
       "    <tr>\n",
       "      <th>25-50</th>\n",
       "      <td>6499998</td>\n",
       "      <td>7999996</td>\n",
       "      <td>8999991</td>\n",
       "      <td>423195</td>\n",
       "      <td>575460</td>\n",
       "      <td>749909</td>\n",
       "      <td>2922907</td>\n",
       "      <td>4130443</td>\n",
       "      <td>4356486</td>\n",
       "    </tr>\n",
       "    <tr>\n",
       "      <th>30-35</th>\n",
       "      <td>38999962</td>\n",
       "      <td>36499945</td>\n",
       "      <td>40999967</td>\n",
       "      <td>3303153</td>\n",
       "      <td>2778316</td>\n",
       "      <td>3076709</td>\n",
       "      <td>20287475</td>\n",
       "      <td>17674051</td>\n",
       "      <td>20090214</td>\n",
       "    </tr>\n",
       "    <tr>\n",
       "      <th>30-40</th>\n",
       "      <td>37999968</td>\n",
       "      <td>41499951</td>\n",
       "      <td>33499946</td>\n",
       "      <td>2894280</td>\n",
       "      <td>3417279</td>\n",
       "      <td>2621466</td>\n",
       "      <td>16267664</td>\n",
       "      <td>28708005</td>\n",
       "      <td>18799210</td>\n",
       "    </tr>\n",
       "    <tr>\n",
       "      <th>30-45</th>\n",
       "      <td>39999941</td>\n",
       "      <td>37499964</td>\n",
       "      <td>36499972</td>\n",
       "      <td>3220578</td>\n",
       "      <td>2944874</td>\n",
       "      <td>3065763</td>\n",
       "      <td>18254158</td>\n",
       "      <td>20800293</td>\n",
       "      <td>20911751</td>\n",
       "    </tr>\n",
       "    <tr>\n",
       "      <th>30-50</th>\n",
       "      <td>42999952</td>\n",
       "      <td>48999979</td>\n",
       "      <td>37499973</td>\n",
       "      <td>3380936</td>\n",
       "      <td>4023271</td>\n",
       "      <td>3032651</td>\n",
       "      <td>21902033</td>\n",
       "      <td>28667080</td>\n",
       "      <td>20915275</td>\n",
       "    </tr>\n",
       "    <tr>\n",
       "      <th>30-55</th>\n",
       "      <td>8000001</td>\n",
       "      <td>8000007</td>\n",
       "      <td>7999985</td>\n",
       "      <td>607212</td>\n",
       "      <td>707108</td>\n",
       "      <td>649341</td>\n",
       "      <td>2154892</td>\n",
       "      <td>3266156</td>\n",
       "      <td>3839081</td>\n",
       "    </tr>\n",
       "    <tr>\n",
       "      <th>35-40</th>\n",
       "      <td>38999937</td>\n",
       "      <td>39999970</td>\n",
       "      <td>37499975</td>\n",
       "      <td>2929745</td>\n",
       "      <td>3229379</td>\n",
       "      <td>2778688</td>\n",
       "      <td>18413008</td>\n",
       "      <td>18826912</td>\n",
       "      <td>17807220</td>\n",
       "    </tr>\n",
       "    <tr>\n",
       "      <th>35-45</th>\n",
       "      <td>36999946</td>\n",
       "      <td>40499957</td>\n",
       "      <td>34999969</td>\n",
       "      <td>3019656</td>\n",
       "      <td>2985735</td>\n",
       "      <td>2921576</td>\n",
       "      <td>14994024</td>\n",
       "      <td>20836111</td>\n",
       "      <td>17892964</td>\n",
       "    </tr>\n",
       "    <tr>\n",
       "      <th>35-50</th>\n",
       "      <td>43000008</td>\n",
       "      <td>42999952</td>\n",
       "      <td>33999950</td>\n",
       "      <td>3465064</td>\n",
       "      <td>3308504</td>\n",
       "      <td>2581227</td>\n",
       "      <td>23405753</td>\n",
       "      <td>20555874</td>\n",
       "      <td>20053502</td>\n",
       "    </tr>\n",
       "    <tr>\n",
       "      <th>35-55</th>\n",
       "      <td>34999962</td>\n",
       "      <td>34499957</td>\n",
       "      <td>50999933</td>\n",
       "      <td>2771488</td>\n",
       "      <td>2998417</td>\n",
       "      <td>4561602</td>\n",
       "      <td>17066755</td>\n",
       "      <td>17532555</td>\n",
       "      <td>22851009</td>\n",
       "    </tr>\n",
       "    <tr>\n",
       "      <th>35-60</th>\n",
       "      <td>8500011</td>\n",
       "      <td>11499992</td>\n",
       "      <td>4999990</td>\n",
       "      <td>723331</td>\n",
       "      <td>782408</td>\n",
       "      <td>516836</td>\n",
       "      <td>4700904</td>\n",
       "      <td>6308823</td>\n",
       "      <td>3676213</td>\n",
       "    </tr>\n",
       "    <tr>\n",
       "      <th>40-45</th>\n",
       "      <td>36499974</td>\n",
       "      <td>41999954</td>\n",
       "      <td>38499959</td>\n",
       "      <td>2812867</td>\n",
       "      <td>3091676</td>\n",
       "      <td>3312196</td>\n",
       "      <td>18199392</td>\n",
       "      <td>20826534</td>\n",
       "      <td>22012893</td>\n",
       "    </tr>\n",
       "    <tr>\n",
       "      <th>40-50</th>\n",
       "      <td>37499958</td>\n",
       "      <td>37999979</td>\n",
       "      <td>39499973</td>\n",
       "      <td>2824866</td>\n",
       "      <td>3201408</td>\n",
       "      <td>2913550</td>\n",
       "      <td>18215984</td>\n",
       "      <td>19443513</td>\n",
       "      <td>19924523</td>\n",
       "    </tr>\n",
       "    <tr>\n",
       "      <th>40-55</th>\n",
       "      <td>29499978</td>\n",
       "      <td>28999943</td>\n",
       "      <td>29999997</td>\n",
       "      <td>2337918</td>\n",
       "      <td>2213075</td>\n",
       "      <td>2563939</td>\n",
       "      <td>13846013</td>\n",
       "      <td>16641174</td>\n",
       "      <td>17267033</td>\n",
       "    </tr>\n",
       "    <tr>\n",
       "      <th>40-60</th>\n",
       "      <td>32999958</td>\n",
       "      <td>40499954</td>\n",
       "      <td>38499969</td>\n",
       "      <td>2742946</td>\n",
       "      <td>3308517</td>\n",
       "      <td>3299339</td>\n",
       "      <td>18720650</td>\n",
       "      <td>21168759</td>\n",
       "      <td>18306498</td>\n",
       "    </tr>\n",
       "    <tr>\n",
       "      <th>40-65</th>\n",
       "      <td>5499985</td>\n",
       "      <td>10999981</td>\n",
       "      <td>9999991</td>\n",
       "      <td>452574</td>\n",
       "      <td>751125</td>\n",
       "      <td>748755</td>\n",
       "      <td>1797232</td>\n",
       "      <td>5390074</td>\n",
       "      <td>6394515</td>\n",
       "    </tr>\n",
       "    <tr>\n",
       "      <th>45-50</th>\n",
       "      <td>8499983</td>\n",
       "      <td>8999979</td>\n",
       "      <td>5499998</td>\n",
       "      <td>593504</td>\n",
       "      <td>739419</td>\n",
       "      <td>445748</td>\n",
       "      <td>4966220</td>\n",
       "      <td>4327235</td>\n",
       "      <td>3102045</td>\n",
       "    </tr>\n",
       "    <tr>\n",
       "      <th>45-55</th>\n",
       "      <td>3500006</td>\n",
       "      <td>10999996</td>\n",
       "      <td>6999989</td>\n",
       "      <td>250102</td>\n",
       "      <td>848061</td>\n",
       "      <td>589706</td>\n",
       "      <td>2081148</td>\n",
       "      <td>7833667</td>\n",
       "      <td>3003063</td>\n",
       "    </tr>\n",
       "    <tr>\n",
       "      <th>45-60</th>\n",
       "      <td>9000008</td>\n",
       "      <td>12499965</td>\n",
       "      <td>10499991</td>\n",
       "      <td>782767</td>\n",
       "      <td>980371</td>\n",
       "      <td>855240</td>\n",
       "      <td>3577891</td>\n",
       "      <td>5039977</td>\n",
       "      <td>5694635</td>\n",
       "    </tr>\n",
       "    <tr>\n",
       "      <th>45-65</th>\n",
       "      <td>6999992</td>\n",
       "      <td>6999996</td>\n",
       "      <td>8999980</td>\n",
       "      <td>498510</td>\n",
       "      <td>482146</td>\n",
       "      <td>760267</td>\n",
       "      <td>5278114</td>\n",
       "      <td>2639272</td>\n",
       "      <td>4683322</td>\n",
       "    </tr>\n",
       "    <tr>\n",
       "      <th>45-70</th>\n",
       "      <td>1500003</td>\n",
       "      <td>500001</td>\n",
       "      <td>500002</td>\n",
       "      <td>102217</td>\n",
       "      <td>24371</td>\n",
       "      <td>68092</td>\n",
       "      <td>585195</td>\n",
       "      <td>260163</td>\n",
       "      <td>430376</td>\n",
       "    </tr>\n",
       "  </tbody>\n",
       "</table>\n",
       "</div>"
      ],
      "text/plain": [
       "              Impressions                       Clicks                    \\\n",
       "Target Gender           B         F         M        B        F        M   \n",
       "Target Age                                                                 \n",
       "20-25            44499961  36999927  37499955  3515505  2901502  3430934   \n",
       "20-30            36999992  36999967  39999975  3117846  3313570  2953678   \n",
       "20-35            36999962  41999961  37499964  2785969  3224318  2722895   \n",
       "20-40            36999989  40499949  43499955  3081428  3285446  3147088   \n",
       "20-45             5499990   7999997   7500003   534272   658597   683121   \n",
       "25-30            34499978  29499955  37499966  2998019  2511848  2663368   \n",
       "25-35            43499959  40499975  39499958  3558087  3117977  3526380   \n",
       "25-40            36999945  34999950  36999991  2985485  2805939  2708036   \n",
       "25-45            39499919  32999953  37499986  3163758  2902590  3027008   \n",
       "25-50             6499998   7999996   8999991   423195   575460   749909   \n",
       "30-35            38999962  36499945  40999967  3303153  2778316  3076709   \n",
       "30-40            37999968  41499951  33499946  2894280  3417279  2621466   \n",
       "30-45            39999941  37499964  36499972  3220578  2944874  3065763   \n",
       "30-50            42999952  48999979  37499973  3380936  4023271  3032651   \n",
       "30-55             8000001   8000007   7999985   607212   707108   649341   \n",
       "35-40            38999937  39999970  37499975  2929745  3229379  2778688   \n",
       "35-45            36999946  40499957  34999969  3019656  2985735  2921576   \n",
       "35-50            43000008  42999952  33999950  3465064  3308504  2581227   \n",
       "35-55            34999962  34499957  50999933  2771488  2998417  4561602   \n",
       "35-60             8500011  11499992   4999990   723331   782408   516836   \n",
       "40-45            36499974  41999954  38499959  2812867  3091676  3312196   \n",
       "40-50            37499958  37999979  39499973  2824866  3201408  2913550   \n",
       "40-55            29499978  28999943  29999997  2337918  2213075  2563939   \n",
       "40-60            32999958  40499954  38499969  2742946  3308517  3299339   \n",
       "40-65             5499985  10999981   9999991   452574   751125   748755   \n",
       "45-50             8499983   8999979   5499998   593504   739419   445748   \n",
       "45-55             3500006  10999996   6999989   250102   848061   589706   \n",
       "45-60             9000008  12499965  10499991   782767   980371   855240   \n",
       "45-65             6999992   6999996   8999980   498510   482146   760267   \n",
       "45-70             1500003    500001    500002   102217    24371    68092   \n",
       "\n",
       "                  Spent                      \n",
       "Target Gender         B         F         M  \n",
       "Target Age                                   \n",
       "20-25          21255900  17823270  12591538  \n",
       "20-30          21193767  19498398  22852653  \n",
       "20-35          19906635  21686905  17488076  \n",
       "20-40          19169929  19127458  23318628  \n",
       "20-45           2000756   3351053   3909738  \n",
       "25-30          15728473  14423859  19649690  \n",
       "25-35          21586301  24061329  18734018  \n",
       "25-40          17426456  20494211  18977087  \n",
       "25-45          17771640  16538376  18715001  \n",
       "25-50           2922907   4130443   4356486  \n",
       "30-35          20287475  17674051  20090214  \n",
       "30-40          16267664  28708005  18799210  \n",
       "30-45          18254158  20800293  20911751  \n",
       "30-50          21902033  28667080  20915275  \n",
       "30-55           2154892   3266156   3839081  \n",
       "35-40          18413008  18826912  17807220  \n",
       "35-45          14994024  20836111  17892964  \n",
       "35-50          23405753  20555874  20053502  \n",
       "35-55          17066755  17532555  22851009  \n",
       "35-60           4700904   6308823   3676213  \n",
       "40-45          18199392  20826534  22012893  \n",
       "40-50          18215984  19443513  19924523  \n",
       "40-55          13846013  16641174  17267033  \n",
       "40-60          18720650  21168759  18306498  \n",
       "40-65           1797232   5390074   6394515  \n",
       "45-50           4966220   4327235   3102045  \n",
       "45-55           2081148   7833667   3003063  \n",
       "45-60           3577891   5039977   5694635  \n",
       "45-65           5278114   2639272   4683322  \n",
       "45-70            585195    260163    430376  "
      ]
     },
     "execution_count": 45,
     "metadata": {},
     "output_type": "execute_result"
    }
   ],
   "source": [
    "# finally, let's make a pivot table\n",
    "pivot = df.pivot_table(\n",
    "    values=['Impressions', 'Clicks', 'Spent'],\n",
    "    index=['Target Age'],\n",
    "    columns=['Target Gender'],\n",
    "    aggfunc=np.sum\n",
    ")\n",
    "pivot"
   ]
  }
 ],
 "metadata": {
  "kernelspec": {
   "display_name": "Python 3",
   "language": "python",
   "name": "python3"
  },
  "language_info": {
   "codemirror_mode": {
    "name": "ipython",
    "version": 3
   },
   "file_extension": ".py",
   "mimetype": "text/x-python",
   "name": "python",
   "nbconvert_exporter": "python",
   "pygments_lexer": "ipython3",
   "version": "3.6.0"
  }
 },
 "nbformat": 4,
 "nbformat_minor": 0
}
